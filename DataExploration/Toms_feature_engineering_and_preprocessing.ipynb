{
 "cells": [
  {
   "cell_type": "markdown",
   "metadata": {},
   "source": []
  },
  {
   "cell_type": "code",
   "execution_count": 1,
   "metadata": {},
   "outputs": [
    {
     "name": "stdout",
     "output_type": "stream",
     "text": [
      "Requirement already satisfied: cython in /usr/local/lib/python3.5/dist-packages\n",
      "Requirement already satisfied: tslearn in /usr/local/lib/python3.5/dist-packages\n",
      "Requirement already satisfied: numpy in /usr/local/lib/python3.5/dist-packages (from tslearn)\n",
      "Requirement already satisfied: scipy in /usr/local/lib/python3.5/dist-packages (from tslearn)\n",
      "Requirement already satisfied: scikit-learn in /usr/local/lib/python3.5/dist-packages (from tslearn)\n",
      "Requirement already satisfied: Cython in /usr/local/lib/python3.5/dist-packages (from tslearn)\n"
     ]
    }
   ],
   "source": [
    "!pip install cython\n",
    "!pip install tslearn"
   ]
  },
  {
   "cell_type": "code",
   "execution_count": 2,
   "metadata": {},
   "outputs": [],
   "source": [
    "from sqlalchemy import create_engine\n",
    "import pandas as pd\n",
    "import numpy as np\n",
    "import os\n",
    "%matplotlib inline\n",
    "\n",
    "def create_connection():\n",
    "    host = 'localhost'\n",
    "    port = '3333'\n",
    "    return create_engine(\"postgresql://infocup@{}:{}/infocup\".format(host,port))"
   ]
  },
  {
   "cell_type": "code",
   "execution_count": 3,
   "metadata": {},
   "outputs": [
    {
     "data": {
      "text/html": [
       "<div>\n",
       "<style>\n",
       "    .dataframe thead tr:only-child th {\n",
       "        text-align: right;\n",
       "    }\n",
       "\n",
       "    .dataframe thead th {\n",
       "        text-align: left;\n",
       "    }\n",
       "\n",
       "    .dataframe tbody tr th {\n",
       "        vertical-align: top;\n",
       "    }\n",
       "</style>\n",
       "<table border=\"1\" class=\"dataframe\">\n",
       "  <thead>\n",
       "    <tr style=\"text-align: right;\">\n",
       "      <th></th>\n",
       "      <th>station_id</th>\n",
       "      <th>time_stamp</th>\n",
       "      <th>price</th>\n",
       "    </tr>\n",
       "  </thead>\n",
       "  <tbody>\n",
       "    <tr>\n",
       "      <th>323874</th>\n",
       "      <td>1000</td>\n",
       "      <td>2017-09-18 16:00:00</td>\n",
       "      <td>1309</td>\n",
       "    </tr>\n",
       "    <tr>\n",
       "      <th>323875</th>\n",
       "      <td>1000</td>\n",
       "      <td>2017-09-19 00:00:00</td>\n",
       "      <td>1409</td>\n",
       "    </tr>\n",
       "    <tr>\n",
       "      <th>323876</th>\n",
       "      <td>1000</td>\n",
       "      <td>2017-09-19 08:00:00</td>\n",
       "      <td>1389</td>\n",
       "    </tr>\n",
       "    <tr>\n",
       "      <th>323877</th>\n",
       "      <td>1000</td>\n",
       "      <td>2017-09-19 16:00:00</td>\n",
       "      <td>1309</td>\n",
       "    </tr>\n",
       "    <tr>\n",
       "      <th>323878</th>\n",
       "      <td>1000</td>\n",
       "      <td>2017-09-20 00:00:00</td>\n",
       "      <td>1419</td>\n",
       "    </tr>\n",
       "    <tr>\n",
       "      <th>323879</th>\n",
       "      <td>1000</td>\n",
       "      <td>2017-09-20 08:00:00</td>\n",
       "      <td>1389</td>\n",
       "    </tr>\n",
       "    <tr>\n",
       "      <th>323880</th>\n",
       "      <td>1000</td>\n",
       "      <td>2017-09-20 16:00:00</td>\n",
       "      <td>1309</td>\n",
       "    </tr>\n",
       "    <tr>\n",
       "      <th>323881</th>\n",
       "      <td>1000</td>\n",
       "      <td>2017-09-21 00:00:00</td>\n",
       "      <td>1419</td>\n",
       "    </tr>\n",
       "    <tr>\n",
       "      <th>323882</th>\n",
       "      <td>1000</td>\n",
       "      <td>2017-09-21 08:00:00</td>\n",
       "      <td>1379</td>\n",
       "    </tr>\n",
       "    <tr>\n",
       "      <th>323883</th>\n",
       "      <td>1000</td>\n",
       "      <td>2017-09-21 16:00:00</td>\n",
       "      <td>1329</td>\n",
       "    </tr>\n",
       "  </tbody>\n",
       "</table>\n",
       "</div>"
      ],
      "text/plain": [
       "        station_id          time_stamp  price\n",
       "323874        1000 2017-09-18 16:00:00   1309\n",
       "323875        1000 2017-09-19 00:00:00   1409\n",
       "323876        1000 2017-09-19 08:00:00   1389\n",
       "323877        1000 2017-09-19 16:00:00   1309\n",
       "323878        1000 2017-09-20 00:00:00   1419\n",
       "323879        1000 2017-09-20 08:00:00   1389\n",
       "323880        1000 2017-09-20 16:00:00   1309\n",
       "323881        1000 2017-09-21 00:00:00   1419\n",
       "323882        1000 2017-09-21 08:00:00   1379\n",
       "323883        1000 2017-09-21 16:00:00   1329"
      ]
     },
     "execution_count": 3,
     "metadata": {},
     "output_type": "execute_result"
    }
   ],
   "source": [
    "con = create_connection()\n",
    "\n",
    "active_stations = pd.read_sql_query(\"\"\"SELECT station_id,time_stamp, price \n",
    "FROM prices_sampled \n",
    "WHERE price > 0 AND station_id <= 1000 AND date_part('hour', time_stamp)::int %% 8 = 0\n",
    "AND time_stamp >= '2017-06-01'\"\"\", con)\n",
    "#active_stations['time_stamp'] = active_stations['time_stamp'].astype(np.int64) // 10**9\n",
    "active_stations.tail(10)"
   ]
  },
  {
   "cell_type": "code",
   "execution_count": 4,
   "metadata": {},
   "outputs": [],
   "source": [
    "active_stations = active_stations[np.isfinite(active_stations['price'])]\n",
    "active_stations.dropna(inplace=True)\n",
    "#prices_pivoted = active_stations.pivot_table(index='time_stamp', columns='station_id', values='price',fill_value=0)\n"
   ]
  },
  {
   "cell_type": "markdown",
   "metadata": {},
   "source": [
    "# Remove Trend"
   ]
  },
  {
   "cell_type": "code",
   "execution_count": 5,
   "metadata": {},
   "outputs": [
    {
     "data": {
      "text/html": [
       "<div>\n",
       "<style>\n",
       "    .dataframe thead tr:only-child th {\n",
       "        text-align: right;\n",
       "    }\n",
       "\n",
       "    .dataframe thead th {\n",
       "        text-align: left;\n",
       "    }\n",
       "\n",
       "    .dataframe tbody tr th {\n",
       "        vertical-align: top;\n",
       "    }\n",
       "</style>\n",
       "<table border=\"1\" class=\"dataframe\">\n",
       "  <thead>\n",
       "    <tr style=\"text-align: right;\">\n",
       "      <th></th>\n",
       "      <th>station_id</th>\n",
       "      <th>time_stamp</th>\n",
       "      <th>price</th>\n",
       "    </tr>\n",
       "  </thead>\n",
       "  <tbody>\n",
       "    <tr>\n",
       "      <th>0</th>\n",
       "      <td>1</td>\n",
       "      <td>2017-06-01 00:00:00</td>\n",
       "      <td>7.264730</td>\n",
       "    </tr>\n",
       "    <tr>\n",
       "      <th>1</th>\n",
       "      <td>1</td>\n",
       "      <td>2017-06-01 08:00:00</td>\n",
       "      <td>7.236339</td>\n",
       "    </tr>\n",
       "    <tr>\n",
       "      <th>2</th>\n",
       "      <td>1</td>\n",
       "      <td>2017-06-01 16:00:00</td>\n",
       "      <td>7.207119</td>\n",
       "    </tr>\n",
       "    <tr>\n",
       "      <th>3</th>\n",
       "      <td>1</td>\n",
       "      <td>2017-06-02 00:00:00</td>\n",
       "      <td>7.264730</td>\n",
       "    </tr>\n",
       "    <tr>\n",
       "      <th>4</th>\n",
       "      <td>1</td>\n",
       "      <td>2017-06-02 08:00:00</td>\n",
       "      <td>7.250636</td>\n",
       "    </tr>\n",
       "  </tbody>\n",
       "</table>\n",
       "</div>"
      ],
      "text/plain": [
       "   station_id          time_stamp     price\n",
       "0           1 2017-06-01 00:00:00  7.264730\n",
       "1           1 2017-06-01 08:00:00  7.236339\n",
       "2           1 2017-06-01 16:00:00  7.207119\n",
       "3           1 2017-06-02 00:00:00  7.264730\n",
       "4           1 2017-06-02 08:00:00  7.250636"
      ]
     },
     "execution_count": 5,
     "metadata": {},
     "output_type": "execute_result"
    }
   ],
   "source": [
    "active_stations['price'] = np.log(active_stations.price)\n",
    "active_stations.head()"
   ]
  },
  {
   "cell_type": "code",
   "execution_count": 6,
   "metadata": {},
   "outputs": [
    {
     "data": {
      "text/plain": [
       "<matplotlib.axes._subplots.AxesSubplot at 0x7f4899dd87b8>"
      ]
     },
     "execution_count": 6,
     "metadata": {},
     "output_type": "execute_result"
    },
    {
     "data": {
      "image/png": "[encoded data removed]",
      "text/plain": [
       "<matplotlib.figure.Figure at 0x7f4899dd8eb8>"
      ]
     },
     "metadata": {},
     "output_type": "display_data"
    }
   ],
   "source": [
    "prices_pivoted = active_stations.pivot_table(index='time_stamp', columns='station_id', values='price',fill_value=0)\n",
    "ts = pd.Series(prices_pivoted[1])\n",
    "ts.plot()"
   ]
  },
  {
   "cell_type": "code",
   "execution_count": 7,
   "metadata": {},
   "outputs": [
    {
     "data": {
      "text/plain": [
       "<matplotlib.axes._subplots.AxesSubplot at 0x7f489b406cf8>"
      ]
     },
     "execution_count": 7,
     "metadata": {},
     "output_type": "execute_result"
    },
    {
     "data": {
      "image/png": "[encoded data removed]",
      "text/plain": [
       "<matplotlib.figure.Figure at 0x7f48ccb947b8>"
      ]
     },
     "metadata": {},
     "output_type": "display_data"
    }
   ],
   "source": [
    "active_stations.plot.line(x=active_stations.time_stamp, y='price', marker='o', alpha=0.3)\n"
   ]
  },
  {
   "cell_type": "markdown",
   "metadata": {},
   "source": [
    "# Modell to predict values"
   ]
  },
  {
   "cell_type": "code",
   "execution_count": 31,
   "metadata": {},
   "outputs": [],
   "source": [
    "import tensorflow as tf\n",
    "import matplotlib.pyplot as plt\n",
    "def reset_graph(seed=42):\n",
    "    tf.reset_default_graph()\n",
    "    tf.set_random_seed(seed)\n",
    "    np.random.seed(seed)\n",
    "t_min, t_max = 0, 30\n",
    "resolution = 0.1\n",
    "\n",
    "ts = pd.Series(prices_pivoted[1])\n",
    "ts.values.reshape(-1,20,1)\n",
    "\n",
    "def next_batch(batch_size, n_steps,iteration):\n",
    "    TS = np.array(ts)\n",
    "    x_data = TS[:(len(TS)+iteration-len(TS)%n_steps)+iteration]\n",
    "    x_batches = x_data.reshape(-1,20,1)\n",
    "    y_data = TS[:(len(TS)-len(TS)%n_steps)+iteration + 1]\n",
    "    y_batches = x_data.reshape(-1,20,1)\n",
    "    return x_batches,y_batches\n",
    "\n",
    "\n",
    "\n",
    "reset_graph()\n",
    "n_steps = 20\n",
    "n_inputs = 1\n",
    "n_neurons = 100\n",
    "n_outputs = 1\n",
    "\n",
    "X = tf.placeholder(tf.float32,[None, n_steps,n_inputs])\n",
    "y = tf.placeholder(tf.float32,[None, n_steps,n_outputs])\n",
    "cell = tf.contrib.rnn.OutputProjectionWrapper(tf.contrib.rnn.BasicLSTMCell(num_units=n_neurons,\n",
    "                                                                          activation=tf.nn.relu), output_size=n_outputs)\n",
    "\n",
    "#cell = tf.contrib.rnn.MultiRNNCell([tf.contrib.rnn.BasicLSTMCell(n_neurons),tf.contrib.rnn.BasicLSTMCell(n_neurons)])\n",
    "outputs, states = tf.nn.dynamic_rnn(cell,X,dtype=tf.float32)"
   ]
  },
  {
   "cell_type": "code",
   "execution_count": 32,
   "metadata": {},
   "outputs": [
    {
     "name": "stdout",
     "output_type": "stream",
     "text": [
      "0 \tMSE: 45.8279\n",
      "100 \tMSE: 2.34303\n",
      "200 \tMSE: 1.00536\n",
      "300 \tMSE: 0.413161\n",
      "400 \tMSE: 0.0352911\n",
      "500 \tMSE: 0.000368856\n",
      "600 \tMSE: 4.94833e-05\n",
      "700 \tMSE: 4.7025e-05\n",
      "800 \tMSE: 4.5642e-05\n",
      "900 \tMSE: 4.43218e-05\n",
      "1000 \tMSE: 0.00379537\n",
      "1100 \tMSE: 4.17134e-05\n",
      "1200 \tMSE: 4.02599e-05\n",
      "1300 \tMSE: 3.94573e-05\n",
      "1400 \tMSE: 3.98062e-05\n",
      "1500 \tMSE: 4.21687e-05\n",
      "1600 \tMSE: 3.65624e-05\n",
      "1700 \tMSE: 3.59032e-05\n",
      "1800 \tMSE: 0.000686706\n",
      "1900 \tMSE: 3.41536e-05\n",
      "2000 \tMSE: 3.32255e-05\n",
      "2100 \tMSE: 3.27438e-05\n",
      "2200 \tMSE: 0.0144066\n",
      "2300 \tMSE: 3.40207e-05\n",
      "2400 \tMSE: 3.25096e-05\n",
      "2500 \tMSE: 3.20748e-05\n",
      "2600 \tMSE: 3.1647e-05\n",
      "2700 \tMSE: 3.12596e-05\n",
      "2800 \tMSE: 3.20567e-05\n",
      "2900 \tMSE: 3.02902e-05\n",
      "3000 \tMSE: 9.53686e-05\n",
      "3100 \tMSE: 3.04365e-05\n",
      "3200 \tMSE: 4.23725e-05\n",
      "3300 \tMSE: 3.0502e-05\n",
      "3400 \tMSE: 2.95785e-05\n",
      "3500 \tMSE: 3.15994e-05\n",
      "3600 \tMSE: 3.22921e-05\n",
      "3700 \tMSE: 3.00349e-05\n",
      "3800 \tMSE: 2.96663e-05\n",
      "3900 \tMSE: 2.92818e-05\n",
      "4000 \tMSE: 0.00209942\n",
      "4100 \tMSE: 2.94165e-05\n",
      "4200 \tMSE: 2.89311e-05\n",
      "4300 \tMSE: 2.85183e-05\n",
      "4400 \tMSE: 0.000401496\n",
      "4500 \tMSE: 2.82644e-05\n",
      "4600 \tMSE: 2.76319e-05\n",
      "4700 \tMSE: 2.71386e-05\n",
      "4800 \tMSE: 2.84633e-05\n",
      "4900 \tMSE: 2.74493e-05\n",
      "5000 \tMSE: 2.66959e-05\n",
      "5100 \tMSE: 0.00179243\n",
      "5200 \tMSE: 2.60054e-05\n",
      "5300 \tMSE: 2.80258e-05\n",
      "5400 \tMSE: 3.62471e-05\n",
      "5500 \tMSE: 1.68666e-05\n",
      "5600 \tMSE: 0.000130541\n",
      "5700 \tMSE: 1.63233e-05\n",
      "5800 \tMSE: 2.77496e-05\n",
      "5900 \tMSE: 1.83348e-05\n",
      "6000 \tMSE: 1.49431e-05\n",
      "6100 \tMSE: 1.38728e-05\n",
      "6200 \tMSE: 6.87558e-05\n",
      "6300 \tMSE: 1.46114e-05\n",
      "6400 \tMSE: 1.3789e-05\n",
      "6500 \tMSE: 1.32316e-05\n",
      "6600 \tMSE: 2.92716e-05\n",
      "6700 \tMSE: 1.31558e-05\n",
      "6800 \tMSE: 1.25493e-05\n",
      "6900 \tMSE: 1.20777e-05\n",
      "7000 \tMSE: 1.74833e-05\n",
      "7100 \tMSE: 1.27707e-05\n",
      "7200 \tMSE: 1.21879e-05\n",
      "7300 \tMSE: 1.18588e-05\n",
      "7400 \tMSE: 8.0867e-05\n",
      "7500 \tMSE: 1.26143e-05\n",
      "7600 \tMSE: 1.22219e-05\n",
      "7700 \tMSE: 1.18027e-05\n",
      "7800 \tMSE: 0.000548882\n",
      "7900 \tMSE: 1.16766e-05\n",
      "8000 \tMSE: 1.12466e-05\n",
      "8100 \tMSE: 1.09416e-05\n",
      "8200 \tMSE: 0.00273002\n",
      "8300 \tMSE: 1.14613e-05\n",
      "8400 \tMSE: 1.1083e-05\n",
      "8500 \tMSE: 3.28434e-05\n",
      "8600 \tMSE: 1.18417e-05\n",
      "8700 \tMSE: 1.12003e-05\n",
      "8800 \tMSE: 1.90269e-05\n",
      "8900 \tMSE: 1.15367e-05\n",
      "9000 \tMSE: 1.11095e-05\n",
      "9100 \tMSE: 1.07544e-05\n",
      "9200 \tMSE: 2.38585e-05\n",
      "9300 \tMSE: 1.02592e-05\n",
      "9400 \tMSE: 0.000172195\n",
      "9500 \tMSE: 1.01971e-05\n",
      "9600 \tMSE: 9.90451e-06\n",
      "9700 \tMSE: 9.65031e-06\n",
      "9800 \tMSE: 1.44417e-05\n",
      "9900 \tMSE: 1.02143e-05\n"
     ]
    }
   ],
   "source": [
    "learning_rate = 0.001\n",
    "loss = tf.reduce_mean(tf.square(outputs-y))\n",
    "optimizer = tf.train.AdamOptimizer(learning_rate=learning_rate)\n",
    "training_op = optimizer.minimize(loss)\n",
    "init = tf.global_variables_initializer()\n",
    "n_iterations = 10000\n",
    "batch_size = 20\n",
    "with tf.Session() as sess:\n",
    "    init.run()\n",
    "    for iteration in range(n_iterations):\n",
    "        X_batch, y_batch = next_batch(batch_size, n_steps,iteration)\n",
    "        sess.run(training_op, feed_dict={X: X_batch, y: y_batch})\n",
    "        if iteration % 100 == 0:\n",
    "            mse = loss.eval(feed_dict={X: X_batch, y: y_batch})\n",
    "            print(iteration, \"\\tMSE:\", mse)\n",
    "    y_pred = sess.run(outputs, feed_dict={X: X_batch[-2:-1]})\n",
    "\n"
   ]
  },
  {
   "cell_type": "code",
   "execution_count": 19,
   "metadata": {},
   "outputs": [
    {
     "data": {
      "text/plain": [
       "0     1474.625366\n",
       "1     1451.671387\n",
       "2     1421.061035\n",
       "3     1455.317627\n",
       "4     1454.695312\n",
       "5     1452.390747\n",
       "6     1453.496460\n",
       "7     1453.448730\n",
       "8     1393.301514\n",
       "9     1449.999268\n",
       "10    1454.206421\n",
       "11    1394.670776\n",
       "12    1441.273682\n",
       "13    1435.189331\n",
       "14    1419.347656\n",
       "15    1451.674805\n",
       "16    1440.754883\n",
       "17    1391.926270\n",
       "18    1452.330566\n",
       "19    1367.197876\n",
       "dtype: float32"
      ]
     },
     "execution_count": 19,
     "metadata": {},
     "output_type": "execute_result"
    }
   ],
   "source": [
    "np.exp(pd.Series(y_pred.reshape(1,-1)[0]))"
   ]
  },
  {
   "cell_type": "code",
   "execution_count": null,
   "metadata": {},
   "outputs": [],
   "source": []
  },
  {
   "cell_type": "code",
   "execution_count": null,
   "metadata": {},
   "outputs": [],
   "source": []
  }
 ],
 "metadata": {
  "kernelspec": {
   "display_name": "Python 3",
   "language": "python",
   "name": "python3"
  },
  "language_info": {
   "codemirror_mode": {
    "name": "ipython",
    "version": 3
   },
   "file_extension": ".py",
   "mimetype": "text/x-python",
   "name": "python",
   "nbconvert_exporter": "python",
   "pygments_lexer": "ipython3",
   "version": "3.5.2"
  }
 },
 "nbformat": 4,
 "nbformat_minor": 2
}
