{
 "cells": [
  {
   "cell_type": "markdown",
   "metadata": {},
   "source": [
    "# Pendler\n",
    "\n",
    "## First get those ID's"
   ]
  },
  {
   "cell_type": "code",
   "execution_count": 1,
   "metadata": {
    "collapsed": true
   },
   "outputs": [],
   "source": [
    "import json\n",
    "from urllib.request import urlopen\n",
    "def loadJson(url):\n",
    "    response = urlopen(url)\n",
    "    data = response.read()\n",
    "    values = json.loads(data)\n",
    "    return values\n",
    "def getRegions():\n",
    "    values = loadJson(\"https://geois.arbeitsagentur.de/arcgis/rest/services/Gebietsstrukturen/MapServer/3/query?f=json&where=valid_from%20%3C=%20CURRENT_DATE%20AND%20valid_to%20%3E=%20CURRENT_DATE&returnGeometry=false&spatialRel=esriSpatialRelIntersects&outFields=ID,region,OBJECTID,parentID&outSR=25832&callback=\")\n",
    "    regions = {}\n",
    "    for x in values[\"features\"]:\n",
    "        regions[x[\"attributes\"][\"ID\"]] = x[\"attributes\"][\"region\"]\n",
    "    return regions\n",
    "def getPendlerPerRegion():\n",
    "    regions = getRegions()\n",
    "    pendler = {}\n",
    "    for x in regions:\n",
    "        pendler[x] = pendler[x][\"ein\"] = pendler[x][\"aus\"] = {}\n",
    "        pendler[x][\"ein\"] = loadJson(\"https://statistik.arbeitsagentur.de/PendlerData?type=ein&year_month=201606&regionInd=\"+x+\"&view=renderPendler\")\n",
    "        pendler[x][\"aus\"] = loadJson(\"https://statistik.arbeitsagentur.de/PendlerData?type=aus&year_month=201606&regionInd=\"+x+\"&view=renderPendler\")\n",
    "        pendler[x][\"regionName\"] = regions[x]\n",
    "    return pendler\n"
   ]
  },
  {
   "cell_type": "code",
   "execution_count": null,
   "metadata": {},
   "outputs": [],
   "source": [
    "getPendlerPerRegion()"
   ]
  },
  {
   "cell_type": "code",
   "execution_count": null,
   "metadata": {
    "collapsed": true,
    "scrolled": false
   },
   "outputs": [],
   "source": []
  },
  {
   "cell_type": "markdown",
   "metadata": {},
   "source": []
  },
  {
   "cell_type": "code",
   "execution_count": null,
   "metadata": {
    "collapsed": true
   },
   "outputs": [],
   "source": []
  },
  {
   "cell_type": "code",
   "execution_count": null,
   "metadata": {
    "collapsed": true
   },
   "outputs": [],
   "source": []
  },
  {
   "cell_type": "code",
   "execution_count": null,
   "metadata": {
    "collapsed": true
   },
   "outputs": [],
   "source": []
  }
 ],
 "metadata": {
  "kernelspec": {
   "display_name": "Python 3",
   "language": "python",
   "name": "python3"
  },
  "language_info": {
   "codemirror_mode": {
    "name": "ipython",
    "version": 3
   },
   "file_extension": ".py",
   "mimetype": "text/x-python",
   "name": "python",
   "nbconvert_exporter": "python",
   "pygments_lexer": "ipython3",
   "version": "3.6.2"
  }
 },
 "nbformat": 4,
 "nbformat_minor": 2
}
