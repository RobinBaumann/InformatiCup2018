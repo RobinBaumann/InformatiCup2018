{
 "cells": [
  {
   "cell_type": "code",
   "execution_count": null,
   "metadata": {},
   "outputs": [
    {
     "data": {
      "text/plain": [
       "'/home/nero/dhbw/informatikcup/InformatiCup2018'"
      ]
     },
     "execution_count": 9,
     "metadata": {},
     "output_type": "execute_result"
    }
   ],
   "source": [
    "# %load ./Solution/database.py\n",
    "import psycopg2\n",
    "import glob\n",
    "import os\n",
    "import pandas as pd\n",
    "from io import StringIO\n",
    "from postgis.psycopg import register\n",
    "\n",
    "\n",
    "def import_input():\n",
    "    con = psycopg2.connect(\"host='localhost' port='5432' dbname='infocup'\")\n",
    "    cursor = con.cursor()\n",
    "    cursor.execute('truncate table stations cascade;')\n",
    "    f = open(r'../Eingabedaten/Tankstellen.csv', 'r')\n",
    "    cursor.copy_from(f, 'stations', sep=';')\n",
    "    f.close()\n",
    "    con.commit()\n",
    "    os.chdir('../Eingabedaten/Benzinpreise')\n",
    "    files = glob.glob('*.csv')\n",
    "    counter = 0\n",
    "    for price_file in files:\n",
    "        station_id = int(os.path.splitext(price_file)[0])\n",
    "        df = pd.read_csv(price_file, delimiter=';')\n",
    "        df['station_id'] = station_id\n",
    "        buf = StringIO()\n",
    "        df.to_csv(buf, header=False, index=False)\n",
    "        buf.seek(0)\n",
    "        cursor.copy_from(buf, 'prices', sep=',', columns=('time_stamp', 'price', 'station_id'))\n",
    "        con.commit()\n",
    "        counter += 1\n",
    "        if counter % 100 == 0:\n",
    "            print(str(counter) + ' / ' + str(len(files)))\n",
    "    con.close()\n",
    "    print('done')\n",
    "\n",
    "\n",
    "def get_highways():\n",
    "    con = psycopg2.connect(\"host='localhost' port='5432' dbname='infocup'\")\n",
    "    register(con)\n",
    "    cursor = con.cursor()\n",
    "\n",
    "    cursor.execute(\"\"\"select row_to_json(fc)::text\n",
    "    from (select 'FeatureCollection' as type, array_to_json(array_agg(f)) as features\n",
    "    from  \n",
    "    (select 'Feature' as type, \n",
    "    (select l from (select ref as name) as l) as properties, \n",
    "    st_asgeojson(st_collect(linestring))::json as geometry \n",
    "    from ways where tags -> 'highway' = 'motorway' group by ref) as f) as fc;\"\"\")\n",
    "    result = cursor.fetchone()\n",
    "    con.commit()\n",
    "    con.close()\n",
    "    return result\n",
    "\n",
    "\n",
    "if __name__ == '__main__':\n",
    "    # import_input()\n",
    "    get_highways()\n"
   ]
  },
  {
   "cell_type": "code",
   "execution_count": 11,
   "metadata": {
    "collapsed": true
   },
   "outputs": [
    {
     "name": "stderr",
     "output_type": "stream",
     "text": [
      "/home/nero/infocup-env/lib/python3.6/site-packages/mpl_toolkits/basemap/__init__.py:1704: MatplotlibDeprecationWarning: The axesPatch function was deprecated in version 2.1. Use Axes.patch instead.\n  limb = ax.axesPatch\n/home/nero/infocup-env/lib/python3.6/site-packages/mpl_toolkits/basemap/__init__.py:1707: MatplotlibDeprecationWarning: The axesPatch function was deprecated in version 2.1. Use Axes.patch instead.\n  if limb is not ax.axesPatch:\n"
     ]
    },
    {
     "data": {
      "text/plain": [
       "<matplotlib.figure.Figure at 0x7f44ecb04ac8>"
      ]
     },
     "execution_count": 0,
     "metadata": {},
     "output_type": "execute_result"
    },
    {
     "data": {
      "image/png": "[encoded data removed]",
      "text/plain": [
       "<matplotlib.figure.Figure at 0x7f44ecb043c8>"
      ]
     },
     "metadata": {},
     "output_type": "display_data"
    }
   ],
   "source": [
    "import geojson\n",
    "from descartes import PolygonPatch\n",
    "import matplotlib.pyplot as plt\n",
    "from mpl_toolkits.basemap import Basemap\n",
    "import numpy as np\n",
    "\n",
    "plt.clf()\n",
    "ax = plt.figure(figsize=(10,10)).add_subplot(111)\n",
    "m = Basemap(epsg=4326, resolution='i',llcrnrlon=5, llcrnrlat=47, urcrnrlon=15, urcrnrlat=55)\n",
    "m.drawmapboundary(fill_color='white', zorder=-1)\n",
    "m.drawparallels(np.arange(-90.,91.,30.), labels=[1,0,0,1], dashes=[1,1], linewidth=0.25, color='0.5',fontsize=14)\n",
    "m.drawmeridians(np.arange(0., 360., 60.), labels=[1,0,0,1], dashes=[1,1], linewidth=0.25, color='0.5',fontsize=14)\n",
    "m.drawcoastlines(color='0.6', linewidth=1)\n",
    "\n",
    "ax.axis('scaled')\n",
    "plt.draw()\n",
    "plt.show()"
   ]
  },
  {
   "cell_type": "code",
   "execution_count": 7,
   "metadata": {
    "collapsed": true
   },
   "outputs": [],
   "source": [
    ""
   ]
  },
  {
   "cell_type": "code",
   "execution_count": 7,
   "metadata": {},
   "outputs": [],
   "source": []
  },
  {
   "cell_type": "code",
   "execution_count": null,
   "metadata": {},
   "outputs": [],
   "source": []
  }
 ],
 "metadata": {
  "kernelspec": {
   "display_name": "Python 3",
   "language": "python",
   "name": "python3"
  },
  "language_info": {
   "codemirror_mode": {
    "name": "ipython",
    "version": 3
   },
   "file_extension": ".py",
   "mimetype": "text/x-python",
   "name": "python",
   "nbconvert_exporter": "python",
   "pygments_lexer": "ipython3",
   "version": "3.6.2"
  }
 },
 "nbformat": 4,
 "nbformat_minor": 2
}
