{
 "cells": [
  {
   "cell_type": "markdown",
   "metadata": {},
   "source": [
    "# K-Means with Dynamic Time Warping"
   ]
  },
  {
   "cell_type": "code",
   "execution_count": null,
   "metadata": {},
   "outputs": [],
   "source": [
    "!pip install cython\n",
    "!pip install tslearn"
   ]
  },
  {
   "cell_type": "code",
   "execution_count": 6,
   "metadata": {},
   "outputs": [],
   "source": [
    "from sqlalchemy import create_engine\n",
    "import pandas as pd\n",
    "import numpy as np\n",
    "import os\n",
    "\n",
    "def create_connection():\n",
    "    host = 'localhost'\n",
    "    port = '3333'\n",
    "    return create_engine(\"postgresql://infocup@{}:{}/infocup\".format(host,port))"
   ]
  },
  {
   "cell_type": "code",
   "execution_count": 7,
   "metadata": {},
   "outputs": [
    {
     "data": {
      "text/html": [
       "<div>\n",
       "<style>\n",
       "    .dataframe thead tr:only-child th {\n",
       "        text-align: right;\n",
       "    }\n",
       "\n",
       "    .dataframe thead th {\n",
       "        text-align: left;\n",
       "    }\n",
       "\n",
       "    .dataframe tbody tr th {\n",
       "        vertical-align: top;\n",
       "    }\n",
       "</style>\n",
       "<table border=\"1\" class=\"dataframe\">\n",
       "  <thead>\n",
       "    <tr style=\"text-align: right;\">\n",
       "      <th></th>\n",
       "      <th>station_id</th>\n",
       "      <th>time_stamp</th>\n",
       "      <th>price</th>\n",
       "    </tr>\n",
       "  </thead>\n",
       "  <tbody>\n",
       "    <tr>\n",
       "      <th>80582</th>\n",
       "      <td>250</td>\n",
       "      <td>1505750400</td>\n",
       "      <td>1309</td>\n",
       "    </tr>\n",
       "    <tr>\n",
       "      <th>80583</th>\n",
       "      <td>250</td>\n",
       "      <td>1505779200</td>\n",
       "      <td>1399</td>\n",
       "    </tr>\n",
       "    <tr>\n",
       "      <th>80584</th>\n",
       "      <td>250</td>\n",
       "      <td>1505808000</td>\n",
       "      <td>1399</td>\n",
       "    </tr>\n",
       "    <tr>\n",
       "      <th>80585</th>\n",
       "      <td>250</td>\n",
       "      <td>1505836800</td>\n",
       "      <td>1339</td>\n",
       "    </tr>\n",
       "    <tr>\n",
       "      <th>80586</th>\n",
       "      <td>250</td>\n",
       "      <td>1505865600</td>\n",
       "      <td>1419</td>\n",
       "    </tr>\n",
       "    <tr>\n",
       "      <th>80587</th>\n",
       "      <td>250</td>\n",
       "      <td>1505894400</td>\n",
       "      <td>1399</td>\n",
       "    </tr>\n",
       "    <tr>\n",
       "      <th>80588</th>\n",
       "      <td>250</td>\n",
       "      <td>1505923200</td>\n",
       "      <td>1339</td>\n",
       "    </tr>\n",
       "    <tr>\n",
       "      <th>80589</th>\n",
       "      <td>250</td>\n",
       "      <td>1505952000</td>\n",
       "      <td>1419</td>\n",
       "    </tr>\n",
       "    <tr>\n",
       "      <th>80590</th>\n",
       "      <td>250</td>\n",
       "      <td>1505980800</td>\n",
       "      <td>1399</td>\n",
       "    </tr>\n",
       "    <tr>\n",
       "      <th>80591</th>\n",
       "      <td>250</td>\n",
       "      <td>1506009600</td>\n",
       "      <td>1379</td>\n",
       "    </tr>\n",
       "  </tbody>\n",
       "</table>\n",
       "</div>"
      ],
      "text/plain": [
       "       station_id  time_stamp  price\n",
       "80582         250  1505750400   1309\n",
       "80583         250  1505779200   1399\n",
       "80584         250  1505808000   1399\n",
       "80585         250  1505836800   1339\n",
       "80586         250  1505865600   1419\n",
       "80587         250  1505894400   1399\n",
       "80588         250  1505923200   1339\n",
       "80589         250  1505952000   1419\n",
       "80590         250  1505980800   1399\n",
       "80591         250  1506009600   1379"
      ]
     },
     "execution_count": 7,
     "metadata": {},
     "output_type": "execute_result"
    }
   ],
   "source": [
    "con = create_connection()\n",
    "\n",
    "active_stations = pd.read_sql_query(\"\"\"SELECT station_id,time_stamp, price \n",
    "FROM prices_sampled \n",
    "WHERE price > 0 AND station_id <= 250 AND date_part('hour', time_stamp)::int %% 8 = 0\n",
    "AND time_stamp >= '2017-06-01'\"\"\", con)\n",
    "active_stations['time_stamp'] = active_stations['time_stamp'].astype(np.int64) // 10**9\n",
    "active_stations.tail(10)"
   ]
  },
  {
   "cell_type": "code",
   "execution_count": 8,
   "metadata": {},
   "outputs": [],
   "source": [
    "active_stations = active_stations[np.isfinite(active_stations['price'])]\n",
    "active_stations.dropna(inplace=True)\n",
    "active_stations.loc[np.isnan(active_stations['price'])]\n",
    "prices_pivoted = active_stations.pivot_table(index='time_stamp', columns='station_id', values='price',fill_value=0)\n"
   ]
  },
  {
   "cell_type": "code",
   "execution_count": 9,
   "metadata": {},
   "outputs": [
    {
     "name": "stdout",
     "output_type": "stream",
     "text": [
      "155812.668 --> \n"
     ]
    },
    {
     "data": {
      "text/plain": [
       "TimeSeriesKMeans(dtw_inertia=False, max_iter=1, max_iter_barycenter=100,\n",
       "         metric='dtw', metric_params=None, n_clusters=10, n_init=1,\n",
       "         random_state=None, tol=1e-06, verbose=True)"
      ]
     },
     "execution_count": 9,
     "metadata": {},
     "output_type": "execute_result"
    }
   ],
   "source": [
    "from tslearn.clustering import TimeSeriesKMeans\n",
    "km = TimeSeriesKMeans(n_clusters=10, metric=\"dtw\",max_iter=1)\n",
    "km.fit(prices_pivoted.as_matrix())"
   ]
  },
  {
   "cell_type": "code",
   "execution_count": 10,
   "metadata": {},
   "outputs": [],
   "source": [
    "y_pred = km.predict(prices_pivoted.as_matrix())"
   ]
  },
  {
   "cell_type": "code",
   "execution_count": 11,
   "metadata": {},
   "outputs": [
    {
     "data": {
      "text/plain": [
       "array([0, 8, 8, 0, 8, 8, 0, 0, 8, 0, 0, 8, 0, 0, 8, 0, 8, 8, 0, 8, 8, 0, 8,\n",
       "       8, 0, 8, 8, 0, 8, 8, 0, 8, 8, 0, 8, 8, 0, 8, 8, 0, 8, 3, 7, 9, 3, 7,\n",
       "       9, 3, 7, 1, 3, 7, 1, 3, 7, 9, 3, 7, 9, 3, 7, 9, 3, 7, 9, 3, 7, 9, 3,\n",
       "       7, 1, 3, 7, 1, 3, 7, 1, 3, 7, 9, 3, 7, 1, 3, 7, 9, 3, 7, 9, 3, 7, 1,\n",
       "       3, 7, 1, 3, 7, 1, 3, 5, 3, 3, 7, 1, 3, 7, 1, 3, 7, 1, 3, 7, 1, 3, 7,\n",
       "       1, 3, 7, 9, 3, 7, 9, 3, 7, 9, 3, 7, 9, 3, 7, 9, 3, 7, 1, 3, 7, 1, 3,\n",
       "       4, 1, 3, 4, 1, 3, 7, 1, 3, 7, 1, 3, 4, 9, 3, 4, 1, 3, 5, 9, 3, 7, 9,\n",
       "       3, 7, 1, 3, 7, 9, 3, 7, 9, 3, 7, 1, 3, 7, 1, 3, 4, 1, 3, 4, 1, 3, 4,\n",
       "       1, 3, 4, 1, 3, 4, 1, 3, 4, 9, 3, 4, 1, 3, 4, 1, 9, 6, 1, 3, 4, 1, 3,\n",
       "       4, 1, 3, 4, 1, 3, 4, 1, 3, 4, 1, 3, 4, 1, 9, 6, 1, 9, 4, 1, 3, 5, 9,\n",
       "       3, 4, 9, 3, 4, 1, 3, 4, 1, 3, 4, 1, 3, 4, 1, 3, 4, 1, 3, 4, 1, 3, 4,\n",
       "       1, 3, 4, 1, 3, 4, 1, 3, 4, 1, 3, 4, 1, 3, 4, 1, 3, 4, 1, 3, 6, 1, 9,\n",
       "       6, 1, 1, 6, 6, 1, 6, 6, 1, 6, 1, 1, 6, 1, 1, 6, 1, 1, 6, 1, 1, 6, 1,\n",
       "       1, 6, 6, 1, 6, 6, 1, 6, 6, 1, 6, 6, 1, 6, 1, 1, 6, 6, 9, 6, 1, 1, 6,\n",
       "       6, 9, 6, 6, 1, 6, 1, 1, 6, 1, 9, 6, 1, 9, 6, 1, 8, 2])"
      ]
     },
     "execution_count": 11,
     "metadata": {},
     "output_type": "execute_result"
    }
   ],
   "source": [
    "y_pred"
   ]
  },
  {
   "cell_type": "code",
   "execution_count": null,
   "metadata": {},
   "outputs": [],
   "source": []
  },
  {
   "cell_type": "code",
   "execution_count": null,
   "metadata": {},
   "outputs": [],
   "source": []
  }
 ],
 "metadata": {
  "kernelspec": {
   "display_name": "Python 3",
   "language": "python",
   "name": "python3"
  },
  "language_info": {
   "codemirror_mode": {
    "name": "ipython",
    "version": 3
   },
   "file_extension": ".py",
   "mimetype": "text/x-python",
   "name": "python",
   "nbconvert_exporter": "python",
   "pygments_lexer": "ipython3",
   "version": "3.5.2"
  }
 },
 "nbformat": 4,
 "nbformat_minor": 2
}
