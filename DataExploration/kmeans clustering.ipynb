{
 "cells": [
  {
   "cell_type": "markdown",
   "metadata": {},
   "source": [
    "# K-Means with Dynamic Time Warping\n",
    "\n",
    "using LB Keogh lower bound of dynamic time warping\n",
    "http://alexminnaar.com/time-series-classification-and-clustering-with-python.html"
   ]
  },
  {
   "cell_type": "code",
   "execution_count": null,
   "metadata": {},
   "outputs": [],
   "source": [
    "!pip install cython\n",
    "!pip install tslearn"
   ]
  },
  {
   "cell_type": "code",
   "execution_count": 53,
   "metadata": {},
   "outputs": [],
   "source": [
    "from sqlalchemy import create_engine\n",
    "import os\n",
    "\n",
    "def create_connection():\n",
    "    host = 'localhost'\n",
    "    port = '3333'\n",
    "    return create_engine(\"postgresql://infocup@{}:{}/infocup\".format(host,port))"
   ]
  },
  {
   "cell_type": "code",
   "execution_count": 517,
   "metadata": {},
   "outputs": [
    {
     "data": {
      "text/html": [
       "<div>\n",
       "<style>\n",
       "    .dataframe thead tr:only-child th {\n",
       "        text-align: right;\n",
       "    }\n",
       "\n",
       "    .dataframe thead th {\n",
       "        text-align: left;\n",
       "    }\n",
       "\n",
       "    .dataframe tbody tr th {\n",
       "        vertical-align: top;\n",
       "    }\n",
       "</style>\n",
       "<table border=\"1\" class=\"dataframe\">\n",
       "  <thead>\n",
       "    <tr style=\"text-align: right;\">\n",
       "      <th></th>\n",
       "      <th>station_id</th>\n",
       "      <th>time_stamp</th>\n",
       "      <th>price</th>\n",
       "    </tr>\n",
       "  </thead>\n",
       "  <tbody>\n",
       "    <tr>\n",
       "      <th>323874</th>\n",
       "      <td>1000</td>\n",
       "      <td>1505750400</td>\n",
       "      <td>1309</td>\n",
       "    </tr>\n",
       "    <tr>\n",
       "      <th>323875</th>\n",
       "      <td>1000</td>\n",
       "      <td>1505779200</td>\n",
       "      <td>1409</td>\n",
       "    </tr>\n",
       "    <tr>\n",
       "      <th>323876</th>\n",
       "      <td>1000</td>\n",
       "      <td>1505808000</td>\n",
       "      <td>1389</td>\n",
       "    </tr>\n",
       "    <tr>\n",
       "      <th>323877</th>\n",
       "      <td>1000</td>\n",
       "      <td>1505836800</td>\n",
       "      <td>1309</td>\n",
       "    </tr>\n",
       "    <tr>\n",
       "      <th>323878</th>\n",
       "      <td>1000</td>\n",
       "      <td>1505865600</td>\n",
       "      <td>1419</td>\n",
       "    </tr>\n",
       "    <tr>\n",
       "      <th>323879</th>\n",
       "      <td>1000</td>\n",
       "      <td>1505894400</td>\n",
       "      <td>1389</td>\n",
       "    </tr>\n",
       "    <tr>\n",
       "      <th>323880</th>\n",
       "      <td>1000</td>\n",
       "      <td>1505923200</td>\n",
       "      <td>1309</td>\n",
       "    </tr>\n",
       "    <tr>\n",
       "      <th>323881</th>\n",
       "      <td>1000</td>\n",
       "      <td>1505952000</td>\n",
       "      <td>1419</td>\n",
       "    </tr>\n",
       "    <tr>\n",
       "      <th>323882</th>\n",
       "      <td>1000</td>\n",
       "      <td>1505980800</td>\n",
       "      <td>1379</td>\n",
       "    </tr>\n",
       "    <tr>\n",
       "      <th>323883</th>\n",
       "      <td>1000</td>\n",
       "      <td>1506009600</td>\n",
       "      <td>1329</td>\n",
       "    </tr>\n",
       "  </tbody>\n",
       "</table>\n",
       "</div>"
      ],
      "text/plain": [
       "        station_id  time_stamp  price\n",
       "323874        1000  1505750400   1309\n",
       "323875        1000  1505779200   1409\n",
       "323876        1000  1505808000   1389\n",
       "323877        1000  1505836800   1309\n",
       "323878        1000  1505865600   1419\n",
       "323879        1000  1505894400   1389\n",
       "323880        1000  1505923200   1309\n",
       "323881        1000  1505952000   1419\n",
       "323882        1000  1505980800   1379\n",
       "323883        1000  1506009600   1329"
      ]
     },
     "execution_count": 517,
     "metadata": {},
     "output_type": "execute_result"
    }
   ],
   "source": [
    "con = create_connection()\n",
    "\n",
    "active_stations = pd.read_sql_query(\"\"\"SELECT station_id,time_stamp, price \n",
    "FROM prices_sampled \n",
    "WHERE price > 0 AND station_id <= 1000 AND date_part('hour', time_stamp)::int %% 8 = 0\n",
    "AND time_stamp >= '2017-06-01'\"\"\", con)\n",
    "active_stations['time_stamp'] = active_stations['time_stamp'].astype(np.int64) // 10**9\n",
    "active_stations.tail(10)"
   ]
  },
  {
   "cell_type": "code",
   "execution_count": null,
   "metadata": {},
   "outputs": [],
   "source": []
  },
  {
   "cell_type": "code",
   "execution_count": null,
   "metadata": {},
   "outputs": [],
   "source": []
  },
  {
   "cell_type": "code",
   "execution_count": 586,
   "metadata": {},
   "outputs": [],
   "source": [
    "active_stations = active_stations[np.isfinite(active_stations['price'])]\n",
    "active_stations.dropna(inplace=True)\n",
    "active_stations.loc[np.isnan(active_stations['price'])]\n",
    "prices_pivoted = active_stations.pivot_table(index='time_stamp', columns='station_id', values='price',fill_value=0)\n"
   ]
  },
  {
   "cell_type": "code",
   "execution_count": 589,
   "metadata": {},
   "outputs": [
    {
     "name": "stdout",
     "output_type": "stream",
     "text": [
      "56015.067 --> 31732.587 --> 31732.587 --> \n"
     ]
    },
    {
     "data": {
      "text/plain": [
       "TimeSeriesKMeans(dtw_inertia=False, max_iter=50, max_iter_barycenter=100,\n",
       "         metric='dtw', metric_params=None, n_clusters=10, n_init=1,\n",
       "         random_state=None, tol=1e-06, verbose=True)"
      ]
     },
     "execution_count": 589,
     "metadata": {},
     "output_type": "execute_result"
    }
   ],
   "source": [
    "from tslearn.clustering import TimeSeriesKMeans\n",
    "km = TimeSeriesKMeans(n_clusters=10, metric=\"dtw\")\n",
    "km.fit(prices_pivoted[0:15].as_matrix())"
   ]
  },
  {
   "cell_type": "code",
   "execution_count": null,
   "metadata": {},
   "outputs": [],
   "source": [
    "y_pred = km.predict(prices_pivoted[16:22].as_matrix())"
   ]
  },
  {
   "cell_type": "code",
   "execution_count": 601,
   "metadata": {},
   "outputs": [
    {
     "data": {
      "text/plain": [
       "array([3, 0, 6, 3, 8, 6])"
      ]
     },
     "execution_count": 601,
     "metadata": {},
     "output_type": "execute_result"
    }
   ],
   "source": [
    "y_pred"
   ]
  },
  {
   "cell_type": "code",
   "execution_count": null,
   "metadata": {},
   "outputs": [],
   "source": []
  },
  {
   "cell_type": "code",
   "execution_count": null,
   "metadata": {},
   "outputs": [],
   "source": []
  }
 ],
 "metadata": {
  "kernelspec": {
   "display_name": "Python 3",
   "language": "python",
   "name": "python3"
  },
  "language_info": {
   "codemirror_mode": {
    "name": "ipython",
    "version": 3
   },
   "file_extension": ".py",
   "mimetype": "text/x-python",
   "name": "python",
   "nbconvert_exporter": "python",
   "pygments_lexer": "ipython3",
   "version": "3.5.2"
  }
 },
 "nbformat": 4,
 "nbformat_minor": 2
}
