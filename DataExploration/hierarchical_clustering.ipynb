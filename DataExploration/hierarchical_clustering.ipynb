{
 "cells": [
  {
   "cell_type": "markdown",
   "metadata": {
    "collapsed": true
   },
   "source": [
    "# Classification with a random forest"
   ]
  },
  {
   "cell_type": "code",
   "execution_count": 1,
   "metadata": {
    "collapsed": true
   },
   "outputs": [],
   "source": [
    "%matplotlib inline\n",
    "import matplotlib.pyplot as plt\n",
    "import numpy as np\n",
    "np.set_printoptions(precision=5, suppress=True)\n",
    "\n",
    "from sqlalchemy import create_engine\n",
    "\n",
    "def create_connection():\n",
    "    host = 'localhost'\n",
    "    port = '3333'\n",
    "    return create_engine(f\"postgresql://infocup@{host}:{port}/infocup\")"
   ]
  },
  {
   "cell_type": "code",
   "execution_count": 2,
   "metadata": {
    "collapsed": true
   },
   "outputs": [],
   "source": [
    "con = create_connection()\n",
    "\n",
    "time_price = con.execute(\"\"\"select station_id, time_stamp, price \n",
    "from prices_sampled \n",
    "where time_stamp > '2017-06-01' \n",
    "and station_id < 500\n",
    "and station_id not in (21, 67, 68, 69, 72, 90, 91, 92, 100, 130, 131, 132, 133, 184, 218, 219, 296, 305, 353, 354, 362, 382, 398, 410, 411, 430, 434, 439, 478, 479, 483, 491)\n",
    "and date_part('hour', time_stamp)::int %% 8 = 0\"\"\")\n",
    "tp = [[t[0], t[1], t[2]] for t in time_price]"
   ]
  },
  {
   "cell_type": "markdown",
   "metadata": {},
   "source": [
    "Hierarchical Clustering inspired by: http://badassdatascience.com/2014/12/31/clustering-stocks-1/"
   ]
  },
  {
   "cell_type": "code",
   "execution_count": 3,
   "metadata": {
    "collapsed": true
   },
   "outputs": [],
   "source": [
    "ids = set([t[0] for t in tp])\n",
    "\n",
    "prices_time_series = {id : [] for id in ids}\n",
    "\n",
    "for id in ids:\n",
    "    prices_time_series[id].append([t[2] for t in tp if id == t[0]])"
   ]
  },
  {
   "cell_type": "code",
   "execution_count": 7,
   "metadata": {
    "collapsed": true
   },
   "outputs": [],
   "source": []
  },
  {
   "cell_type": "code",
   "execution_count": 4,
   "metadata": {
    "collapsed": true
   },
   "outputs": [],
   "source": [
    "import scipy.stats\n",
    "\n",
    "# Calculate R\n",
    "new_ids = sorted(prices_time_series.keys())\n",
    "R_dict = {i: {} for i in range(0, len(new_ids))}\n",
    "for i in range(0, len(new_ids)):\n",
    "    for j in range(i, len(new_ids)):\n",
    "        id_i = new_ids[i]\n",
    "        id_j = new_ids[j]\n",
    "        R = 1.0\n",
    "        if id_i != id_j: \n",
    "            if len(prices_time_series[id_i][0]) != len(prices_time_series[id_j][0]):\n",
    "                # TODO: how to handle missing prices?\n",
    "                print('{} and {} are not in the same shape.'.format(id_i, id_j))\n",
    "                break\n",
    "            R = scipy.stats.pearsonr(prices_time_series[id_i][0], prices_time_series[id_j][0])[0]\n",
    "        R_dict[i][j] = R"
   ]
  },
  {
   "cell_type": "code",
   "execution_count": 5,
   "metadata": {
    "collapsed": true
   },
   "outputs": [],
   "source": [
    "# create the distance matrix\n",
    "distance_matrix = np.zeros([len(new_ids), len(new_ids)])\n",
    "for i in R_dict.keys():\n",
    "    for j in R_dict[i].keys():\n",
    "        similarity = R_dict[i][j] + 1. #range 0 to 2\n",
    "        distance = (-1 * (similarity - 2.0)) / 2.0\n",
    "        distance_matrix[i][j] = distance\n",
    "        distance_matrix[j][i] = distance"
   ]
  },
  {
   "cell_type": "code",
   "execution_count": 6,
   "metadata": {},
   "outputs": [
    {
     "name": "stderr",
     "output_type": "stream",
     "text": [
      "/usr/lib/python3.6/site-packages/ipykernel/__main__.py:3: ClusterWarning: scipy.cluster: The symmetric non-negative hollow observation matrix looks suspiciously like an uncondensed distance matrix\n",
      "  app.launch_new_instance()\n"
     ]
    }
   ],
   "source": [
    "import scipy.cluster.hierarchy\n",
    "# create the linkage:\n",
    "Z = scipy.cluster.hierarchy.linkage(distance_matrix, method='average')\n",
    "\n",
    "# function to set blank dendrogram labels\n",
    "def llf(id):\n",
    "    return ''"
   ]
  },
  {
   "cell_type": "code",
   "execution_count": 8,
   "metadata": {},
   "outputs": [
    {
     "data": {
      "image/png": "[encoded data removed]",
      "text/plain": [
       "<matplotlib.figure.Figure at 0x7fe3d3ba1630>"
      ]
     },
     "metadata": {},
     "output_type": "display_data"
    }
   ],
   "source": [
    "# plot\n",
    "\n",
    "plt.figure(figsize=(12, 8))\n",
    "\n",
    "scipy.cluster.hierarchy.dendrogram(Z, leaf_label_func=llf)\n",
    "plt.title('Hierarchical Clustering of Prices')\n",
    "plt.show()"
   ]
  },
  {
   "cell_type": "code",
   "execution_count": 15,
   "metadata": {},
   "outputs": [
    {
     "name": "stdout",
     "output_type": "stream",
     "text": [
      "\n",
      "50\n",
      "1\n",
      "25.5\n",
      "50\n"
     ]
    },
    {
     "data": {
      "image/png": "[encoded data removed]",
      "text/plain": [
       "<matplotlib.figure.Figure at 0x7fe3d3e81518>"
      ]
     },
     "metadata": {},
     "output_type": "display_data"
    }
   ],
   "source": [
    "# flatten\n",
    "number_of_groups_to_use = [50]\n",
    "for n in number_of_groups_to_use:\n",
    "    T = scipy.cluster.hierarchy.fcluster(Z, n, criterion=\"maxclust\")\n",
    "    counts = {}\n",
    "    for i, t in enumerate(T):\n",
    "        if t not in counts:\n",
    "            counts[t] = 0\n",
    "        counts[t] += 1\n",
    "    counts_list = []\n",
    "    for c in counts.keys():\n",
    "        counts_list.append(c)\n",
    " \n",
    "    # output\n",
    "    print()\n",
    "    print(n)\n",
    "    print(np.min(counts_list))\n",
    "    print(np.median(counts_list))\n",
    "    print(np.max(counts_list))\n",
    "    plt.hist(counts_list)\n",
    "    plt.title('Distribution of Number of Stations per Group')\n",
    "    plt.xlabel('Number of Stations per Group')\n",
    "    plt.ylabel('Frequency')\n",
    "    plt.show()"
   ]
  }
 ],
 "metadata": {
  "kernelspec": {
   "display_name": "Python 3",
   "language": "python",
   "name": "python3"
  },
  "language_info": {
   "codemirror_mode": {
    "name": "ipython",
    "version": 3
   },
   "file_extension": ".py",
   "mimetype": "text/x-python",
   "name": "python",
   "nbconvert_exporter": "python",
   "pygments_lexer": "ipython3",
   "version": "3.6.3"
  }
 },
 "nbformat": 4,
 "nbformat_minor": 1
}
