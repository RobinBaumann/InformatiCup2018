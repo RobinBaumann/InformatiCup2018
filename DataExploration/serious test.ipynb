{
 "cells": [
  {
   "cell_type": "code",
   "execution_count": 4,
   "metadata": {
    "collapsed": true
   },
   "outputs": [],
   "source": [
    "import sys\n",
    "import numpy as np\n",
    "import holidays\n",
    "sys.path.append('../') \n",
    "from model import data_preparation as prep\n",
    "import time"
   ]
  },
  {
   "cell_type": "markdown",
   "metadata": {},
   "source": [
    "# Get Some Data"
   ]
  },
  {
   "cell_type": "code",
   "execution_count": 5,
   "metadata": {},
   "outputs": [
    {
     "name": "stdout",
     "output_type": "stream",
     "text": [
      "18.063724994659424\n"
     ]
    }
   ],
   "source": [
    "con = prep.create_connection()\n",
    "t = time.time()\n",
    "data = prep.prepare_data_2(con,20)\n",
    "print(time.time()-t)"
   ]
  },
  {
   "cell_type": "markdown",
   "metadata": {},
   "source": [
    "# Arrange Data to have List of training instances"
   ]
  },
  {
   "cell_type": "code",
   "execution_count": 6,
   "metadata": {},
   "outputs": [
    {
     "name": "stdout",
     "output_type": "stream",
     "text": [
      "        ln_price          time_stamp  is_vacation  is_holiday  day_of_week  \\\n",
      "0       7.243513 2015-01-01 00:00:00            1           1            4   \n",
      "1       7.243513 2015-01-01 01:00:00            1           1            4   \n",
      "2       7.243513 2015-01-01 02:00:00            1           1            4   \n",
      "3       7.243513 2015-01-01 03:00:00            1           1            4   \n",
      "4       7.243513 2015-01-01 04:00:00            1           1            4   \n",
      "5       7.243513 2015-01-01 05:00:00            1           1            4   \n",
      "6       7.207119 2015-01-01 06:00:00            1           1            4   \n",
      "7       7.207119 2015-01-01 07:00:00            1           1            4   \n",
      "8       7.207119 2015-01-01 08:00:00            1           1            4   \n",
      "9       7.207119 2015-01-01 09:00:00            1           1            4   \n",
      "10      7.207119 2015-01-01 10:00:00            1           1            4   \n",
      "11      7.207119 2015-01-01 11:00:00            1           1            4   \n",
      "12      7.207119 2015-01-01 12:00:00            1           1            4   \n",
      "13      7.207119 2015-01-01 13:00:00            1           1            4   \n",
      "14      7.207119 2015-01-01 14:00:00            1           1            4   \n",
      "15      7.161622 2015-01-01 15:00:00            1           1            4   \n",
      "16      7.161622 2015-01-01 16:00:00            1           1            4   \n",
      "17      7.161622 2015-01-01 17:00:00            1           1            4   \n",
      "18      7.161622 2015-01-01 18:00:00            1           1            4   \n",
      "19      7.161622 2015-01-01 19:00:00            1           1            4   \n",
      "20      7.161622 2015-01-01 20:00:00            1           1            4   \n",
      "21      7.184629 2015-01-01 21:00:00            1           1            4   \n",
      "22      7.184629 2015-01-01 22:00:00            1           1            4   \n",
      "23      7.243513 2015-01-01 23:00:00            1           1            4   \n",
      "24      7.243513 2015-01-02 00:00:00            1           0            5   \n",
      "25      7.243513 2015-01-02 01:00:00            1           0            5   \n",
      "26      7.243513 2015-01-02 02:00:00            1           0            5   \n",
      "27      7.243513 2015-01-02 03:00:00            1           0            5   \n",
      "28      7.243513 2015-01-02 04:00:00            1           0            5   \n",
      "29      7.243513 2015-01-02 05:00:00            1           0            5   \n",
      "...          ...                 ...          ...         ...          ...   \n",
      "475650  7.177019 2017-09-16 19:00:00            0           0            6   \n",
      "475651  7.177019 2017-09-16 20:00:00            0           0            6   \n",
      "475652  7.177019 2017-09-16 21:00:00            0           0            6   \n",
      "475653  7.177019 2017-09-16 22:00:00            0           0            6   \n",
      "475654  7.338888 2017-09-16 23:00:00            0           0            6   \n",
      "475655  7.338888 2017-09-17 00:00:00            0           0            7   \n",
      "475656  7.338888 2017-09-17 01:00:00            0           0            7   \n",
      "475657  7.338888 2017-09-17 02:00:00            0           0            7   \n",
      "475658  7.338888 2017-09-17 03:00:00            0           0            7   \n",
      "475659  7.338888 2017-09-17 04:00:00            0           0            7   \n",
      "475660  7.338888 2017-09-17 05:00:00            0           0            7   \n",
      "475661  7.338888 2017-09-17 06:00:00            0           0            7   \n",
      "475662  7.338888 2017-09-17 07:00:00            0           0            7   \n",
      "475663  7.338888 2017-09-17 08:00:00            0           0            7   \n",
      "475664  7.332369 2017-09-17 09:00:00            0           0            7   \n",
      "475665  7.264730 2017-09-17 10:00:00            0           0            7   \n",
      "475666  7.192182 2017-09-17 11:00:00            0           0            7   \n",
      "475667  7.192182 2017-09-17 12:00:00            0           0            7   \n",
      "475668  7.221836 2017-09-17 13:00:00            0           0            7   \n",
      "475669  7.221836 2017-09-17 14:00:00            0           0            7   \n",
      "475670  7.192182 2017-09-17 15:00:00            0           0            7   \n",
      "475671  7.192182 2017-09-17 16:00:00            0           0            7   \n",
      "475672  7.192182 2017-09-17 17:00:00            0           0            7   \n",
      "475673  7.207119 2017-09-17 18:00:00            0           0            7   \n",
      "475674  7.207119 2017-09-17 19:00:00            0           0            7   \n",
      "475675  7.207119 2017-09-17 20:00:00            0           0            7   \n",
      "475676  7.207119 2017-09-17 21:00:00            0           0            7   \n",
      "475677  7.207119 2017-09-17 22:00:00            0           0            7   \n",
      "475678  7.338888 2017-09-17 23:00:00            0           0            7   \n",
      "475679  7.338888 2017-09-18 00:00:00            0           0            1   \n",
      "\n",
      "        hour_of_day  station_id  brand_no  bland_no  kreis  abahn_id  bstr_id  \\\n",
      "0                 0        1526       737        14  03357       0.0   3690.0   \n",
      "1                 1        1526       737        14  03357       0.0   3690.0   \n",
      "2                 2        1526       737        14  03357       0.0   3690.0   \n",
      "3                 3        1526       737        14  03357       0.0   3690.0   \n",
      "4                 4        1526       737        14  03357       0.0   3690.0   \n",
      "5                 5        1526       737        14  03357       0.0   3690.0   \n",
      "6                 6        1526       737        14  03357       0.0   3690.0   \n",
      "7                 7        1526       737        14  03357       0.0   3690.0   \n",
      "8                 8        1526       737        14  03357       0.0   3690.0   \n",
      "9                 9        1526       737        14  03357       0.0   3690.0   \n",
      "10               10        1526       737        14  03357       0.0   3690.0   \n",
      "11               11        1526       737        14  03357       0.0   3690.0   \n",
      "12               12        1526       737        14  03357       0.0   3690.0   \n",
      "13               13        1526       737        14  03357       0.0   3690.0   \n",
      "14               14        1526       737        14  03357       0.0   3690.0   \n",
      "15               15        1526       737        14  03357       0.0   3690.0   \n",
      "16               16        1526       737        14  03357       0.0   3690.0   \n",
      "17               17        1526       737        14  03357       0.0   3690.0   \n",
      "18               18        1526       737        14  03357       0.0   3690.0   \n",
      "19               19        1526       737        14  03357       0.0   3690.0   \n",
      "20               20        1526       737        14  03357       0.0   3690.0   \n",
      "21               21        1526       737        14  03357       0.0   3690.0   \n",
      "22               22        1526       737        14  03357       0.0   3690.0   \n",
      "23               23        1526       737        14  03357       0.0   3690.0   \n",
      "24                0        1526       737        14  03357       0.0   3690.0   \n",
      "25                1        1526       737        14  03357       0.0   3690.0   \n",
      "26                2        1526       737        14  03357       0.0   3690.0   \n",
      "27                3        1526       737        14  03357       0.0   3690.0   \n",
      "28                4        1526       737        14  03357       0.0   3690.0   \n",
      "29                5        1526       737        14  03357       0.0   3690.0   \n",
      "...             ...         ...       ...       ...    ...       ...      ...   \n",
      "475650           19       14009       575        10  09772       0.0      0.0   \n",
      "475651           20       14009       575        10  09772       0.0      0.0   \n",
      "475652           21       14009       575        10  09772       0.0      0.0   \n",
      "475653           22       14009       575        10  09772       0.0      0.0   \n",
      "475654           23       14009       575        10  09772       0.0      0.0   \n",
      "475655            0       14009       575        10  09772       0.0      0.0   \n",
      "475656            1       14009       575        10  09772       0.0      0.0   \n",
      "475657            2       14009       575        10  09772       0.0      0.0   \n",
      "475658            3       14009       575        10  09772       0.0      0.0   \n",
      "475659            4       14009       575        10  09772       0.0      0.0   \n",
      "475660            5       14009       575        10  09772       0.0      0.0   \n",
      "475661            6       14009       575        10  09772       0.0      0.0   \n",
      "475662            7       14009       575        10  09772       0.0      0.0   \n",
      "475663            8       14009       575        10  09772       0.0      0.0   \n",
      "475664            9       14009       575        10  09772       0.0      0.0   \n",
      "475665           10       14009       575        10  09772       0.0      0.0   \n",
      "475666           11       14009       575        10  09772       0.0      0.0   \n",
      "475667           12       14009       575        10  09772       0.0      0.0   \n",
      "475668           13       14009       575        10  09772       0.0      0.0   \n",
      "475669           14       14009       575        10  09772       0.0      0.0   \n",
      "475670           15       14009       575        10  09772       0.0      0.0   \n",
      "475671           16       14009       575        10  09772       0.0      0.0   \n",
      "475672           17       14009       575        10  09772       0.0      0.0   \n",
      "475673           18       14009       575        10  09772       0.0      0.0   \n",
      "475674           19       14009       575        10  09772       0.0      0.0   \n",
      "475675           20       14009       575        10  09772       0.0      0.0   \n",
      "475676           21       14009       575        10  09772       0.0      0.0   \n",
      "475677           22       14009       575        10  09772       0.0      0.0   \n",
      "475678           23       14009       575        10  09772       0.0      0.0   \n",
      "475679            0       14009       575        10  09772       0.0      0.0   \n",
      "\n",
      "        sstr_id  \n",
      "0           0.0  \n",
      "1           0.0  \n",
      "2           0.0  \n",
      "3           0.0  \n",
      "4           0.0  \n",
      "5           0.0  \n",
      "6           0.0  \n",
      "7           0.0  \n",
      "8           0.0  \n",
      "9           0.0  \n",
      "10          0.0  \n",
      "11          0.0  \n",
      "12          0.0  \n",
      "13          0.0  \n",
      "14          0.0  \n",
      "15          0.0  \n",
      "16          0.0  \n",
      "17          0.0  \n",
      "18          0.0  \n",
      "19          0.0  \n",
      "20          0.0  \n",
      "21          0.0  \n",
      "22          0.0  \n",
      "23          0.0  \n",
      "24          0.0  \n",
      "25          0.0  \n",
      "26          0.0  \n",
      "27          0.0  \n",
      "28          0.0  \n",
      "29          0.0  \n",
      "...         ...  \n",
      "475650    305.0  \n",
      "475651    305.0  \n",
      "475652    305.0  \n",
      "475653    305.0  \n",
      "475654    305.0  \n",
      "475655    305.0  \n",
      "475656    305.0  \n",
      "475657    305.0  \n",
      "475658    305.0  \n",
      "475659    305.0  \n",
      "475660    305.0  \n",
      "475661    305.0  \n",
      "475662    305.0  \n",
      "475663    305.0  \n",
      "475664    305.0  \n",
      "475665    305.0  \n",
      "475666    305.0  \n",
      "475667    305.0  \n",
      "475668    305.0  \n",
      "475669    305.0  \n",
      "475670    305.0  \n",
      "475671    305.0  \n",
      "475672    305.0  \n",
      "475673    305.0  \n",
      "475674    305.0  \n",
      "475675    305.0  \n",
      "475676    305.0  \n",
      "475677    305.0  \n",
      "475678    305.0  \n",
      "475679    305.0  \n",
      "\n",
      "[475680 rows x 13 columns]\n"
     ]
    }
   ],
   "source": [
    "print(data)"
   ]
  },
  {
   "cell_type": "code",
   "execution_count": 29,
   "metadata": {
    "collapsed": true
   },
   "outputs": [],
   "source": [
    "x_train_adjusted = np.array([x_train_adjusted[k] for k in sorted(x_train_adjusted.keys())])\n",
    "x_train_adjusted = x_train_adjusted.reshape(-1,12)\n",
    "x_test_adjusted = np.array([x_test_adjusted[k] for k in sorted(x_test_adjusted.keys())])\n",
    "x_test_adjusted = x_test_adjusted.reshape(-1,12)\n",
    "y_test_adjusted = np.array([y_test_adjusted[k] for k in sorted(y_test_adjusted.keys())])\n",
    "y_test_adjusted = y_test_adjusted.reshape(-1,1)\n",
    "y_train_adjusted = np.array([y_train_adjusted[k] for k in sorted(y_train_adjusted.keys())])\n",
    "y_train_adjusted = y_train_adjusted.reshape(-1,1)\n"
   ]
  },
  {
   "cell_type": "markdown",
   "metadata": {},
   "source": [
    "# normalize price MinMax"
   ]
  },
  {
   "cell_type": "code",
   "execution_count": 30,
   "metadata": {
    "collapsed": true
   },
   "outputs": [],
   "source": [
    "maxValue =y_train_adjusted[:,0].max()\n",
    "x_train_adjusted = x_train_adjusted.astype(float)\n",
    "x_test_adjusted = x_test_adjusted.astype(float)\n",
    "x_train_adjusted[:,0] *=1/maxValue\n",
    "x_test_adjusted[:,0] *=1/maxValue\n",
    "y_test_adjusted[:,0] *=1/maxValue\n",
    "y_train_adjusted[:,0] *=1/maxValue"
   ]
  },
  {
   "cell_type": "code",
   "execution_count": 31,
   "metadata": {},
   "outputs": [
    {
     "data": {
      "text/plain": [
       "array([  9.45951558e-01,   1.42007040e+18,   1.00000000e+00,\n",
       "         1.00000000e+00,   4.00000000e+00,   4.47000000e+02,\n",
       "        -5.25154027e+18,   1.50000000e+01,   1.05500000e+03,\n",
       "        -1.00000000e+00,  -1.00000000e+00,  -2.00000000e+00])"
      ]
     },
     "execution_count": 31,
     "metadata": {},
     "output_type": "execute_result"
    }
   ],
   "source": [
    "x_train_adjusted[0]"
   ]
  },
  {
   "cell_type": "code",
   "execution_count": 32,
   "metadata": {
    "collapsed": true
   },
   "outputs": [],
   "source": [
    "x_train_adjusted = np.array(x_train_adjusted)\n",
    "x_test_adjusted = np.array(x_test_adjusted)\n",
    "#x_train_adjusted = x_train_adjusted.reshape(x_train_adjusted.shape + (1, ))\n",
    "#x_test_adjusted = x_test_adjusted.reshape(x_test_adjusted.shape + (1, ))"
   ]
  },
  {
   "cell_type": "markdown",
   "metadata": {},
   "source": [
    "# fitting lasso regression model\n",
    "\n",
    "seems to fit best our problem with a penalty value of 1e^-6"
   ]
  },
  {
   "cell_type": "code",
   "execution_count": 33,
   "metadata": {},
   "outputs": [
    {
     "name": "stdout",
     "output_type": "stream",
     "text": [
      "0.766719038257\n"
     ]
    },
    {
     "data": {
      "image/png": "[encoded data removed]",
      "text/plain": [
       "<matplotlib.figure.Figure at 0x7fcd1998d2b0>"
      ]
     },
     "metadata": {},
     "output_type": "display_data"
    }
   ],
   "source": [
    "from sklearn import linear_model\n",
    "import matplotlib.pyplot as plt\n",
    "clf = linear_model.LassoLars(0.0000001)\n",
    "clf.fit (x_train_adjusted, y_train_adjusted)\n",
    "print(clf.score(x_test_adjusted , y_test_adjusted))\n",
    "\n",
    "plt.plot(np.exp(y_test_adjusted*maxValue))\n",
    "plt.plot(np.exp(clf.predict(x_test_adjusted)*maxValue))\n",
    "plt.show()"
   ]
  },
  {
   "cell_type": "code",
   "execution_count": 34,
   "metadata": {},
   "outputs": [
    {
     "data": {
      "text/plain": [
       "array([[  9.51112724e-01,   1.48856760e+18,   0.00000000e+00, ...,\n",
       "         -1.00000000e+00,  -1.00000000e+00,  -2.00000000e+00],\n",
       "       [  9.51112724e-01,   1.48857120e+18,   0.00000000e+00, ...,\n",
       "         -1.00000000e+00,  -1.00000000e+00,  -2.00000000e+00],\n",
       "       [  9.51112724e-01,   1.48857480e+18,   0.00000000e+00, ...,\n",
       "         -1.00000000e+00,  -1.00000000e+00,  -2.00000000e+00],\n",
       "       ..., \n",
       "       [  9.55101647e-01,   1.50567840e+18,   0.00000000e+00, ...,\n",
       "         -2.00000000e+00,  -1.00000000e+00,  -2.00000000e+00],\n",
       "       [  9.55101647e-01,   1.50568200e+18,   0.00000000e+00, ...,\n",
       "         -2.00000000e+00,  -1.00000000e+00,  -2.00000000e+00],\n",
       "       [  9.55101647e-01,   1.50568560e+18,   0.00000000e+00, ...,\n",
       "         -2.00000000e+00,  -1.00000000e+00,  -2.00000000e+00]])"
      ]
     },
     "execution_count": 34,
     "metadata": {},
     "output_type": "execute_result"
    }
   ],
   "source": [
    "x_test_adjusted"
   ]
  },
  {
   "cell_type": "code",
   "execution_count": 35,
   "metadata": {},
   "outputs": [
    {
     "data": {
      "text/plain": [
       "237213.00372908448"
      ]
     },
     "execution_count": 35,
     "metadata": {},
     "output_type": "execute_result"
    }
   ],
   "source": [
    "\n",
    "from sklearn.metrics import mean_squared_error\n",
    "mean_squared_error(np.exp(y_test_adjusted*maxValue), np.exp(clf.predict(x_test_adjusted*maxValue)))"
   ]
  },
  {
   "cell_type": "code",
   "execution_count": null,
   "metadata": {
    "collapsed": true
   },
   "outputs": [],
   "source": []
  },
  {
   "cell_type": "code",
   "execution_count": null,
   "metadata": {
    "collapsed": true
   },
   "outputs": [],
   "source": []
  }
 ],
 "metadata": {
  "kernelspec": {
   "display_name": "Python 3",
   "language": "python",
   "name": "python3"
  },
  "language_info": {
   "codemirror_mode": {
    "name": "ipython",
    "version": 3
   },
   "file_extension": ".py",
   "mimetype": "text/x-python",
   "name": "python",
   "nbconvert_exporter": "python",
   "pygments_lexer": "ipython3",
   "version": "3.6.4"
  }
 },
 "nbformat": 4,
 "nbformat_minor": 2
}
