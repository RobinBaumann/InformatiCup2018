{
 "cells": [
  {
   "cell_type": "code",
   "execution_count": 147,
   "metadata": {},
   "outputs": [],
   "source": [
    "import sys\n",
    "import numpy as np\n",
    "sys.path.append('../')\n",
    "from model import data_preparation as prep"
   ]
  },
  {
   "cell_type": "code",
   "execution_count": 148,
   "metadata": {},
   "outputs": [],
   "source": [
    "con = prep.create_connection()\n",
    "prepared_data = prep.prepare_data(con)"
   ]
  },
  {
   "cell_type": "code",
   "execution_count": 149,
   "metadata": {},
   "outputs": [
    {
     "data": {
      "text/plain": [
       "{2572: {'abahn': False,\n",
       "  'brand': 'bft',\n",
       "  'bstr': True,\n",
       "  'county': '03459',\n",
       "  'sstr': False,\n",
       "  'state': 'niedersachsen',\n",
       "  'time_series': {'test': array([1379, 1379, 1399, ..., 1329, 1329, 1329]),\n",
       "   'train': array([1389, 1389, 1389, ..., 1379, 1379, 1379])}},\n",
       " 3723: {'abahn': False,\n",
       "  'brand': 'm1',\n",
       "  'bstr': True,\n",
       "  'county': '03254',\n",
       "  'sstr': False,\n",
       "  'state': 'niedersachsen',\n",
       "  'time_series': {'test': array([1319, 1319, 1319, ..., 1289, 1289, 1289]),\n",
       "   'train': array([1349, 1349, 1349, ..., 1339, 1339, 1319])}},\n",
       " 3826: {'abahn': False,\n",
       "  'brand': 'jet',\n",
       "  'bstr': True,\n",
       "  'county': '03459',\n",
       "  'sstr': True,\n",
       "  'state': 'niedersachsen',\n",
       "  'time_series': {'test': array([1369, 1369, 1369, ..., 1329, 1329, 1419]),\n",
       "   'train': array([1319, 1319, 1319, ..., 1369, 1369, 1369])}},\n",
       " 4150: {'abahn': False,\n",
       "  'brand': 'westfalen',\n",
       "  'bstr': True,\n",
       "  'county': '05766',\n",
       "  'sstr': False,\n",
       "  'state': 'nordrhein-westfalen',\n",
       "  'time_series': {'test': array([1349, 1349, 1349, ..., 1339, 1449, 1479]),\n",
       "   'train': array([1389, 1389, 1389, ..., 1369, 1359, 1349])}},\n",
       " 4657: {'abahn': True,\n",
       "  'brand': 'kaufland',\n",
       "  'bstr': True,\n",
       "  'county': '150010000000',\n",
       "  'sstr': False,\n",
       "  'state': 'sachsen-anhalt',\n",
       "  'time_series': {'test': array([1319, 1319, 1319, ..., 1329, 1329, 1329]),\n",
       "   'train': array([1299, 1299, 1299, ..., 1339, 1319, 1319])}},\n",
       " 5222: {'abahn': True,\n",
       "  'brand': 'aral',\n",
       "  'bstr': True,\n",
       "  'county': '05978',\n",
       "  'sstr': True,\n",
       "  'state': 'nordrhein-westfalen',\n",
       "  'time_series': {'test': array([1349, 1349, 1349, ..., 1319, 1509, 1509]),\n",
       "   'train': array([1379, 1379, 1379, ..., 1349, 1349, 1349])}},\n",
       " 5718: {'abahn': True,\n",
       "  'brand': 'star',\n",
       "  'bstr': True,\n",
       "  'county': '051120000000',\n",
       "  'sstr': True,\n",
       "  'state': 'nordrhein-westfalen',\n",
       "  'time_series': {'test': array([1359, 1319, 1319, ..., 1299, 1299, 1399]),\n",
       "   'train': array([1369, 1369, 1369, ..., 1379, 1379, 1359])}},\n",
       " 6380: {'abahn': True,\n",
       "  'brand': 'shell',\n",
       "  'bstr': True,\n",
       "  'county': '05954',\n",
       "  'sstr': True,\n",
       "  'state': 'nordrhein-westfalen',\n",
       "  'time_series': {'test': array([1349, 1349, 1349, ..., 1329, 1489, 1489]),\n",
       "   'train': array([1399, 1399, 1399, ..., 1389, 1349, 1349])}},\n",
       " 7084: {'abahn': True,\n",
       "  'brand': 'total',\n",
       "  'bstr': True,\n",
       "  'county': '14626',\n",
       "  'sstr': False,\n",
       "  'state': 'sachsen',\n",
       "  'time_series': {'test': array([1359, 1359, 1359, ..., 1479, 1479, 1479]),\n",
       "   'train': array([1379, 1379, 1379, ..., 1369, 1359, 1359])}},\n",
       " 7753: {'abahn': True,\n",
       "  'brand': 'shell',\n",
       "  'bstr': True,\n",
       "  'county': '053150000000',\n",
       "  'sstr': True,\n",
       "  'state': 'nordrhein-westfalen',\n",
       "  'time_series': {'test': array([1309, 1309, 1309, ..., 1329, 1439, 1439]),\n",
       "   'train': array([1399, 1399, 1399, ..., 1319, 1319, 1309])}},\n",
       " 7871: {'abahn': True,\n",
       "  'brand': 'shell',\n",
       "  'bstr': False,\n",
       "  'county': '16074',\n",
       "  'sstr': False,\n",
       "  'state': 'thüringen',\n",
       "  'time_series': {'test': array([1359, 1349, 1349, ..., 1349, 1489, 1489]),\n",
       "   'train': array([1399, 1399, 1399, ..., 1359, 1359, 1359])}},\n",
       " 8155: {'abahn': True,\n",
       "  'brand': 'shell',\n",
       "  'bstr': True,\n",
       "  'county': '05358',\n",
       "  'sstr': False,\n",
       "  'state': 'nordrhein-westfalen',\n",
       "  'time_series': {'test': array([1349, 1349, 1349, ..., 1369, 1489, 1489]),\n",
       "   'train': array([1399, 1399, 1399, ..., 1369, 1359, 1349])}},\n",
       " 8325: {'abahn': False,\n",
       "  'brand': 'star',\n",
       "  'bstr': True,\n",
       "  'county': '05358',\n",
       "  'sstr': False,\n",
       "  'state': 'nordrhein-westfalen',\n",
       "  'time_series': {'test': array([1309, 1309, 1309, ..., 1339, 1339, 1429]),\n",
       "   'train': array([1339, 1339, 1339, ..., 1339, 1319, 1309])}},\n",
       " 8529: {'abahn': True,\n",
       "  'brand': 'aral',\n",
       "  'bstr': True,\n",
       "  'county': '053140000000',\n",
       "  'sstr': True,\n",
       "  'state': 'nordrhein-westfalen',\n",
       "  'time_series': {'test': array([1329, 1329, 1329, ..., 1339, 1529, 1529]),\n",
       "   'train': array([1389, 1389, 1389, ..., 1329, 1329, 1329])}},\n",
       " 9832: {'abahn': True,\n",
       "  'brand': 'aral',\n",
       "  'bstr': False,\n",
       "  'county': '09472',\n",
       "  'sstr': False,\n",
       "  'state': 'bayern',\n",
       "  'time_series': {'test': array([1339, 1339, 1339, ..., 1369, 1489, 1489]),\n",
       "   'train': array([1379, 1379, 1379, ..., 1339, 1339, 1339])}},\n",
       " 10073: {'abahn': True,\n",
       "  'brand': 'avia',\n",
       "  'bstr': True,\n",
       "  'county': '073150000000',\n",
       "  'sstr': True,\n",
       "  'state': 'rheinland-pfalz',\n",
       "  'time_series': {'test': array([1329, 1319, 1319, ..., 1329, 1329, 1429]),\n",
       "   'train': array([1389, 1389, 1389, ..., 1349, 1339, 1329])}},\n",
       " 10528: {'abahn': True,\n",
       "  'brand': 'supermarkt-tankstelle',\n",
       "  'bstr': True,\n",
       "  'county': '096630000000',\n",
       "  'sstr': True,\n",
       "  'state': 'bayern',\n",
       "  'time_series': {'test': array([1319, 1319, 1319, ..., 1289, 1379, 1379]),\n",
       "   'train': array([1339, 1339, 1339, ..., 1339, 1339, 1329])}},\n",
       " 10611: {'abahn': True,\n",
       "  'brand': 'avia',\n",
       "  'bstr': True,\n",
       "  'county': '09572',\n",
       "  'sstr': False,\n",
       "  'state': 'bayern',\n",
       "  'time_series': {'test': array([1319, 1319, 1319, ..., 1309, 1309, 1309]),\n",
       "   'train': array([1299, 1299, 1299, ..., 1319, 1319, 1319])}},\n",
       " 13479: {'abahn': False,\n",
       "  'brand': 'supermarkt-tankstelle am real,- markt',\n",
       "  'bstr': True,\n",
       "  'county': '08415',\n",
       "  'sstr': True,\n",
       "  'state': 'baden-württemberg',\n",
       "  'time_series': {'test': array([1319, 1309, 1309, ..., 1299, 1389, 1389]),\n",
       "   'train': array([1329, 1329, 1329, ..., 1339, 1329, 1319])}},\n",
       " 15219: {'abahn': False,\n",
       "  'brand': 'agip',\n",
       "  'bstr': True,\n",
       "  'county': '09180',\n",
       "  'sstr': False,\n",
       "  'state': 'bayern',\n",
       "  'time_series': {'test': array([1369, 1369, 1369, ..., 1299, 1299, 1419]),\n",
       "   'train': array([1329, 1329, 1329, ..., 1389, 1389, 1389])}}}"
      ]
     },
     "execution_count": 149,
     "metadata": {},
     "output_type": "execute_result"
    }
   ],
   "source": [
    "prepared_data\n",
    "#import deepdish as dd\n",
    "#dd.io.save(\"20tanken.deepdish\",prepared_data, compression=('blosc', 9))"
   ]
  },
  {
   "cell_type": "code",
   "execution_count": 150,
   "metadata": {},
   "outputs": [],
   "source": [
    "for key in prepared_data:\n",
    "    prepared_data[key][\"time_series\"][\"test\"] = np.log(prepared_data[key][\"time_series\"][\"test\"].reshape(-1,1))\n",
    "    prepared_data[key][\"time_series\"][\"train\"] = np.log(prepared_data[key][\"time_series\"][\"train\"].reshape(-1,1))\n",
    "    "
   ]
  },
  {
   "cell_type": "code",
   "execution_count": 151,
   "metadata": {},
   "outputs": [],
   "source": [
    "from statsmodels.tsa.stattools import pacf\n",
    "\n",
    "keys = list(prepared_data.keys())\n",
    "\n",
    "x_pacf=pacf( prepared_data[keys[0]]['time_series']['train'] , nlags =10, method='ols')"
   ]
  },
  {
   "cell_type": "code",
   "execution_count": 152,
   "metadata": {},
   "outputs": [
    {
     "data": {
      "text/plain": [
       "array([  1.00000000e+00,   9.75197173e-01,  -1.57587369e-04,\n",
       "        -3.57280943e-02,  -1.32001758e-02,  -8.99144955e-03,\n",
       "        -2.59335020e-02,  -9.26265723e-03,   2.48011374e-02,\n",
       "         5.70675021e-02,   1.25748786e-01])"
      ]
     },
     "execution_count": 152,
     "metadata": {},
     "output_type": "execute_result"
    }
   ],
   "source": [
    "x_pacf"
   ]
  },
  {
   "cell_type": "code",
   "execution_count": 153,
   "metadata": {},
   "outputs": [],
   "source": [
    "def encodeState(data):\n",
    "    states = {\n",
    "     'baden-württemberg':1,\n",
    "     'bayern':2,\n",
    "     'berlin':3,\n",
    "     'brandenburg':4,\n",
    "     'bremen':5,\n",
    "     'hamburg':6,\n",
    "     'hessen':7,\n",
    "     'mecklenburg-vorpommern':8,\n",
    "     'niedersachsen':9,\n",
    "     'nordrhein-westfalen':10,\n",
    "     'rheinland-pfalz':11,\n",
    "     'saarland':12,\n",
    "     'sachsen':13,\n",
    "     'sachsen-anhalt':14,\n",
    "     'schleswig-holstein':15,\n",
    "     'thüringen':16\n",
    "    }\n",
    "    data[\"state\"] = states[data[\"state\"]]\n",
    "    return data\n"
   ]
  },
  {
   "cell_type": "code",
   "execution_count": 154,
   "metadata": {},
   "outputs": [],
   "source": [
    "x_train_adjusted = {}\n",
    "x_test_adjusted = {}\n",
    "y_train_adjusted = {}\n",
    "y_test_adjusted = {}\n",
    "for k in keys:\n",
    "    prepared_data[k] = encodeState(prepared_data[k])\n",
    "    x_train = prepared_data[k][\"time_series\"][\"train\"][0:-2]\n",
    "    y_train_adjusted[k] = prepared_data[k][\"time_series\"][\"train\"][1:-1]\n",
    "    x_test = prepared_data[k][\"time_series\"][\"test\"][0:-2]\n",
    "    y_test_adjusted[k] = prepared_data[k][\"time_series\"][\"test\"][1:-1]\n",
    "    x_train_adjusted[k] = []\n",
    "    x_test_adjusted[k] = []\n",
    "    for p in x_train:\n",
    "        features = []\n",
    "        features.append(np.float(p[0]))\n",
    "        features.append(prepared_data[k][\"state\"])\n",
    "        features.append(k)\n",
    "        features.append(prepared_data[k][\"county\"])\n",
    "        features.append(int(prepared_data[k][\"abahn\"]))\n",
    "        features.append(int(prepared_data[k][\"bstr\"]))\n",
    "        features.append(int(prepared_data[k][\"sstr\"]))\n",
    "        x_train_adjusted[k].append(features)\n",
    "    x_test_adjusted[k] = []\n",
    "    for p in x_test:\n",
    "        features = []\n",
    "        features.append(np.float(p[0]))\n",
    "        features.append(k)\n",
    "        features.append(prepared_data[k][\"state\"])\n",
    "        features.append(prepared_data[k][\"county\"])\n",
    "        features.append(int(prepared_data[k][\"abahn\"]))\n",
    "        features.append(int(prepared_data[k][\"bstr\"]))\n",
    "        features.append(int(prepared_data[k][\"sstr\"]))\n",
    "        x_test_adjusted[k].append(features)"
   ]
  },
  {
   "cell_type": "code",
   "execution_count": 155,
   "metadata": {},
   "outputs": [],
   "source": [
    "x_train_adjusted =np.array([x_train_adjusted[k] for k in sorted(x_train_adjusted.keys())])\n",
    "x_train_adjusted = x_train_adjusted.reshape(-1,7)\n",
    "x_test_adjusted =np.array([x_test_adjusted[k] for k in sorted(x_test_adjusted.keys())])\n",
    "x_test_adjusted = x_test_adjusted.reshape(-1,7)\n",
    "y_test_adjusted =np.array([y_test_adjusted[k] for k in sorted(y_test_adjusted.keys())])\n",
    "y_test_adjusted = y_test_adjusted.reshape(-1,1)\n",
    "y_train_adjusted =np.array([y_train_adjusted[k] for k in sorted(y_train_adjusted.keys())])\n",
    "y_train_adjusted = y_train_adjusted.reshape(-1,1)\n"
   ]
  },
  {
   "cell_type": "code",
   "execution_count": 156,
   "metadata": {},
   "outputs": [],
   "source": [
    "maxValue =y_train_adjusted[:,0].max()\n",
    "x_train_adjusted = x_train_adjusted.astype(float)\n",
    "x_test_adjusted = x_test_adjusted.astype(float)\n",
    "x_train_adjusted[:,0] *=1/maxValue\n",
    "x_test_adjusted[:,0] *=1/maxValue\n",
    "y_test_adjusted[:,0] *=1/maxValue\n",
    "y_train_adjusted[:,0] *=1/maxValue"
   ]
  },
  {
   "cell_type": "code",
   "execution_count": 157,
   "metadata": {},
   "outputs": [
    {
     "data": {
      "text/plain": [
       "array([  9.76837644e-01,   9.00000000e+00,   2.57200000e+03,\n",
       "         3.45900000e+03,   0.00000000e+00,   1.00000000e+00,\n",
       "         0.00000000e+00])"
      ]
     },
     "execution_count": 157,
     "metadata": {},
     "output_type": "execute_result"
    }
   ],
   "source": [
    "x_train_adjusted[0]"
   ]
  },
  {
   "cell_type": "code",
   "execution_count": 158,
   "metadata": {},
   "outputs": [],
   "source": [
    "#from keras.optimizers import SGD\n",
    "#from keras.models import Sequential\n",
    "#from keras.layers.core import Dense, Activation\n",
    "#from keras.layers.recurrent import SimpleRNN, LSTM"
   ]
  },
  {
   "cell_type": "code",
   "execution_count": 159,
   "metadata": {},
   "outputs": [],
   "source": [
    "#seed = 2016\n",
    "#np.random.seed(seed)\n",
    "#fit1 = Sequential()\n",
    "#batch_size=50\n",
    "##fit1.add(SimpleRNN(output_dim=8, activation=\"tanh\", input_shape=(7, 1)))\n",
    "#fit1.add(LSTM(30, return_sequences=True, stateful=True, input_shape=(7,1),batch_input_shape =(batch_size,7 ,1),inner_activation = 'hard_sigmoid',activation='sigmoid'))\n",
    "#fit1.add(LSTM(50, stateful=True, return_sequences=True))\n",
    "#fit1.add(LSTM(60, batch_input_shape=(batch_size, 7, 1), stateful=True))\n",
    "#fit1.add(Dense(output_dim =1))\n",
    "#fit1.compile(loss='mae', optimizer='adam')"
   ]
  },
  {
   "cell_type": "code",
   "execution_count": 160,
   "metadata": {},
   "outputs": [],
   "source": [
    "x_train_adjusted = np.array(x_train_adjusted)\n",
    "x_test_adjusted = np.array(x_test_adjusted)\n",
    "x_train_adjusted = x_train_adjusted.reshape(x_train_adjusted.shape + (1, ))\n",
    "x_test_adjusted = x_test_adjusted.reshape(x_test_adjusted.shape + (1, ))"
   ]
  },
  {
   "cell_type": "code",
   "execution_count": 161,
   "metadata": {},
   "outputs": [],
   "source": [
    "#fit1.fit(x_train_adjusted, y_train_adjusted, batch_size=batch_size, epochs =2, shuffle = False )\n"
   ]
  },
  {
   "cell_type": "code",
   "execution_count": 162,
   "metadata": {},
   "outputs": [],
   "source": [
    "#score_train = fit1.evaluate(x_train_adjusted, y_train_adjusted,batch_size=batch_size)\n",
    "#score_test = fit1.evaluate (x_test_adjusted, y_test_adjusted,batch_size=batch_size)\n",
    "#print(\"in train MAE = \", round( score_train, 6))\n",
    "#print(\"in test MAE = \", round( score_test ,6))"
   ]
  },
  {
   "cell_type": "code",
   "execution_count": 163,
   "metadata": {
    "scrolled": true
   },
   "outputs": [],
   "source": [
    "#import matplotlib.pyplot as plt\n",
    "#plt.plot(np.exp(y_test_adjusted[:10000]*maxValue)-np.exp(fit1.predict(x_test_adjusted[:10000])*maxValue))\n",
    "\n",
    "#plt.plot(np.exp(y_test_adjusted*maxValue))\n",
    "#plt.plot(np.exp(fit1.predict(x_test_adjusted,batch_size=batch_size)*maxValue))\n",
    "#plt.show()"
   ]
  },
  {
   "cell_type": "code",
   "execution_count": 164,
   "metadata": {},
   "outputs": [],
   "source": [
    "#from sklearn.neural_network import MLPRegressor\n",
    "#import random\n",
    "\n",
    "#create the model.\n",
    "#regressor=MLPRegressor(hidden_layer_sizes=(5,5), activation='relu',  solver='sgd',shuffle=False,random_state=0)\n",
    "#regressor.fit (x_train_adjusted.reshape(380500,7), y_train_adjusted.reshape(380500,1) )\n",
    "#regressor.score(x_test_adjusted.reshape(95100,7) , y_test_adjusted.reshape(95100,1))\n"
   ]
  },
  {
   "cell_type": "code",
   "execution_count": 165,
   "metadata": {},
   "outputs": [],
   "source": [
    "#plt.plot(np.exp(y_test_adjusted*maxValue))\n",
    "#plt.plot(np.exp(regressor.predict(x_test_adjusted.reshape(95100,7))*maxValue))\n",
    "#plt.show()"
   ]
  },
  {
   "cell_type": "code",
   "execution_count": 166,
   "metadata": {},
   "outputs": [],
   "source": [
    "#from sklearn.model_selection import GridSearchCV\n",
    "#mlp = MLPRegressor()\n",
    "#param_grid = {'hidden_layer_sizes': [(i,i,i) for i in range(51,150)],\n",
    "#              'activation': ['logistic'],\n",
    "#              'solver': ['adam','sgd'],\n",
    "#              'learning_rate': ['constant'],\n",
    "#              'shuffle':[False],\n",
    "#              'learning_rate_init': [0.001]}\n",
    "#_GS = GridSearchCV(mlp, param_grid=param_grid, verbose=True, pre_dispatch='2*n_jobs')\n",
    "#_GS.fit(x_train_adjusted.reshape(380500,7), y_train_adjusted.reshape(380500,1) )"
   ]
  },
  {
   "cell_type": "code",
   "execution_count": 167,
   "metadata": {},
   "outputs": [],
   "source": [
    "#_GS.score(x_test_adjusted.reshape(380500,7), y_test_adjusted.reshape(380500,1) )"
   ]
  },
  {
   "cell_type": "code",
   "execution_count": 168,
   "metadata": {},
   "outputs": [
    {
     "name": "stdout",
     "output_type": "stream",
     "text": [
      "0.771264246229\n"
     ]
    },
    {
     "data": {
      "image/png": "[encoded data removed]",
      "text/plain": [
       "<matplotlib.figure.Figure at 0x7ff919d278d0>"
      ]
     },
     "metadata": {},
     "output_type": "display_data"
    }
   ],
   "source": [
    "from sklearn import linear_model\n",
    "clf = linear_model.LassoLars(0.000001)\n",
    "clf.fit (x_train_adjusted.reshape(380500,7), y_train_adjusted.reshape(380500,1) )\n",
    "print(clf.score(x_test_adjusted.reshape(95100,7) , y_test_adjusted.reshape(95100,1)))\n",
    "\n",
    "plt.plot(np.exp(y_test_adjusted*maxValue))\n",
    "plt.plot(np.exp(clf.predict(x_test_adjusted.reshape(95100,7))*maxValue))\n",
    "plt.show()"
   ]
  },
  {
   "cell_type": "code",
   "execution_count": null,
   "metadata": {},
   "outputs": [],
   "source": []
  },
  {
   "cell_type": "code",
   "execution_count": null,
   "metadata": {},
   "outputs": [],
   "source": []
  }
 ],
 "metadata": {
  "kernelspec": {
   "display_name": "Python 3",
   "language": "python",
   "name": "python3"
  },
  "language_info": {
   "codemirror_mode": {
    "name": "ipython",
    "version": 3
   },
   "file_extension": ".py",
   "mimetype": "text/x-python",
   "name": "python",
   "nbconvert_exporter": "python",
   "pygments_lexer": "ipython3",
   "version": "3.5.2"
  }
 },
 "nbformat": 4,
 "nbformat_minor": 2
}
