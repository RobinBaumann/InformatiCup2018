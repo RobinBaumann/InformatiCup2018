{
 "cells": [
  {
   "cell_type": "code",
   "execution_count": 1,
   "metadata": {},
   "outputs": [],
   "source": [
    "import sys\n",
    "import numpy as np\n",
    "sys.path.append('../')\n",
    "from model import data_preparation as prep"
   ]
  },
  {
   "cell_type": "code",
   "execution_count": 2,
   "metadata": {},
   "outputs": [],
   "source": [
    "con = prep.create_connection()\n",
    "prepared_data = prep.prepare_data(con)"
   ]
  },
  {
   "cell_type": "code",
   "execution_count": 3,
   "metadata": {},
   "outputs": [
    {
     "data": {
      "text/plain": [
       "{302: {'abahn': True,\n",
       "  'brand': 'shell',\n",
       "  'bstr': True,\n",
       "  'county': '01051',\n",
       "  'sstr': True,\n",
       "  'state': 'schleswig-holstein',\n",
       "  'time_series': {'test': array([1339, 1329, 1329, ..., 1329, 1489, 1489]),\n",
       "   'train': array([1399, 1399, 1399, ..., 1339, 1339, 1339])}},\n",
       " 727: {'abahn': True,\n",
       "  'brand': 'tankcenter',\n",
       "  'bstr': True,\n",
       "  'county': '01056',\n",
       "  'sstr': False,\n",
       "  'state': 'schleswig-holstein',\n",
       "  'time_series': {'test': array([1329, 1329, 1329, ..., 1299, 1389, 1389]),\n",
       "   'train': array([1329, 1329, 1329, ..., 1329, 1329, 1329])}},\n",
       " 1885: {'abahn': True,\n",
       "  'brand': 'esso',\n",
       "  'bstr': True,\n",
       "  'county': '03361',\n",
       "  'sstr': False,\n",
       "  'state': 'niedersachsen',\n",
       "  'time_series': {'test': array([1309, 1299, 1299, ..., 1309, 1369, 1429]),\n",
       "   'train': array([1389, 1389, 1389, ..., 1359, 1319, 1309])}},\n",
       " 2222: {'abahn': False,\n",
       "  'brand': 'felta',\n",
       "  'bstr': True,\n",
       "  'county': '03251',\n",
       "  'sstr': False,\n",
       "  'state': 'niedersachsen',\n",
       "  'time_series': {'test': array([1314, 1304, 1304, ..., 1304, 1304, 1414]),\n",
       "   'train': array([1374, 1374, 1374, ..., 1374, 1324, 1314])}},\n",
       " 2916: {'abahn': False,\n",
       "  'brand': 'leo',\n",
       "  'bstr': True,\n",
       "  'county': '031030000000',\n",
       "  'sstr': False,\n",
       "  'state': 'niedersachsen',\n",
       "  'time_series': {'test': array([1319, 1319, 1319, ..., 1309, 1409, 1409]),\n",
       "   'train': array([1409, 1409, 1409, ..., 1319, 1319, 1319])}},\n",
       " 3488: {'abahn': True,\n",
       "  'brand': 'star',\n",
       "  'bstr': False,\n",
       "  'county': '05566',\n",
       "  'sstr': False,\n",
       "  'state': 'nordrhein-westfalen',\n",
       "  'time_series': {'test': array([1369, 1369, 1369, ..., 1339, 1339, 1429]),\n",
       "   'train': array([1369, 1369, 1369, ..., 1389, 1369, 1369])}},\n",
       " 4055: {'abahn': True,\n",
       "  'brand': 'avia',\n",
       "  'bstr': True,\n",
       "  'county': '057110000000',\n",
       "  'sstr': True,\n",
       "  'state': 'nordrhein-westfalen',\n",
       "  'time_series': {'test': array([1344, 1344, 1344, ..., 1324, 1524, 1524]),\n",
       "   'train': array([1374, 1374, 1374, ..., 1344, 1344, 1344])}},\n",
       " 5031: {'abahn': False,\n",
       "  'brand': '',\n",
       "  'bstr': True,\n",
       "  'county': '03155',\n",
       "  'sstr': False,\n",
       "  'state': 'niedersachsen',\n",
       "  'time_series': {'test': array([1329, 1329, 1329, ..., 1359, 1359, 1359]),\n",
       "   'train': array([1319, 1319, 1319, ..., 1329, 1329, 1329])}},\n",
       " 5127: {'abahn': False,\n",
       "  'brand': 'shell',\n",
       "  'bstr': True,\n",
       "  'county': '15082',\n",
       "  'sstr': False,\n",
       "  'state': 'sachsen-anhalt',\n",
       "  'time_series': {'test': array([1299, 1299, 1299, ..., 1329, 1479, 1479]),\n",
       "   'train': array([1399, 1399, 1399, ..., 1299, 1299, 1299])}},\n",
       " 5927: {'abahn': True,\n",
       "  'brand': 'avia',\n",
       "  'bstr': True,\n",
       "  'county': '059130000000',\n",
       "  'sstr': True,\n",
       "  'state': 'nordrhein-westfalen',\n",
       "  'time_series': {'test': array([1349, 1339, 1339, ..., 1329, 1489, 1489]),\n",
       "   'train': array([1399, 1399, 1399, ..., 1369, 1349, 1349])}},\n",
       " 6994: {'abahn': True,\n",
       "  'brand': 'q1',\n",
       "  'bstr': True,\n",
       "  'county': '06634',\n",
       "  'sstr': False,\n",
       "  'state': 'hessen',\n",
       "  'time_series': {'test': array([1339, 1339, 1429, ..., 1419, 1419, 1419]),\n",
       "   'train': array([1359, 1359, 1359, ..., 1339, 1339, 1339])}},\n",
       " 7454: {'abahn': True,\n",
       "  'brand': 'avia xpress',\n",
       "  'bstr': True,\n",
       "  'county': '053160000000',\n",
       "  'sstr': True,\n",
       "  'state': 'nordrhein-westfalen',\n",
       "  'time_series': {'test': array([1299, 1299, 1299, ..., 1319, 1319, 1409]),\n",
       "   'train': array([1269, 1269, 1269, ..., 1309, 1309, 1299])}},\n",
       " 7920: {'abahn': False,\n",
       "  'brand': 'aral',\n",
       "  'bstr': True,\n",
       "  'county': '05970',\n",
       "  'sstr': True,\n",
       "  'state': 'nordrhein-westfalen',\n",
       "  'time_series': {'test': array([1359, 1339, 1339, ..., 1339, 1529, 1529]),\n",
       "   'train': array([1379, 1379, 1379, ..., 1399, 1399, 1359])}},\n",
       " 8588: {'abahn': False,\n",
       "  'brand': 'ed',\n",
       "  'bstr': True,\n",
       "  'county': '05366',\n",
       "  'sstr': False,\n",
       "  'state': 'nordrhein-westfalen',\n",
       "  'time_series': {'test': array([1319, 1319, 1319, ..., 1319, 1319, 1369]),\n",
       "   'train': array([1319, 1319, 1319, ..., 1319, 1319, 1319])}},\n",
       " 10067: {'abahn': True,\n",
       "  'brand': 'e-center',\n",
       "  'bstr': True,\n",
       "  'county': '09479',\n",
       "  'sstr': True,\n",
       "  'state': 'bayern',\n",
       "  'time_series': {'test': array([1399, 1399, 1399, ..., 1319, 1319, 1439]),\n",
       "   'train': array([1359, 1359, 1359, ..., 1399, 1399, 1399])}},\n",
       " 10847: {'abahn': True,\n",
       "  'brand': 'aral',\n",
       "  'bstr': True,\n",
       "  'county': '08128',\n",
       "  'sstr': False,\n",
       "  'state': 'baden-württemberg',\n",
       "  'time_series': {'test': array([1339, 1339, 1339, ..., 1319, 1489, 1489]),\n",
       "   'train': array([1319, 1319, 1319, ..., 1369, 1359, 1359])}},\n",
       " 11926: {'abahn': True,\n",
       "  'brand': 'aral',\n",
       "  'bstr': True,\n",
       "  'county': '08125',\n",
       "  'sstr': True,\n",
       "  'state': 'baden-württemberg',\n",
       "  'time_series': {'test': array([1409, 1409, 1409, ..., 1419, 1589, 1589]),\n",
       "   'train': array([1379, 1379, 1379, ..., 1409, 1409, 1409])}},\n",
       " 12235: {'abahn': True,\n",
       "  'brand': 'avia',\n",
       "  'bstr': True,\n",
       "  'county': '082120000000',\n",
       "  'sstr': True,\n",
       "  'state': 'baden-württemberg',\n",
       "  'time_series': {'test': array([1309, 1309, 1309, ..., 1329, 1419, 1419]),\n",
       "   'train': array([1359, 1359, 1359, ..., 1329, 1319, 1309])}},\n",
       " 13144: {'abahn': True,\n",
       "  'brand': 'shell',\n",
       "  'bstr': True,\n",
       "  'county': '08216',\n",
       "  'sstr': False,\n",
       "  'state': 'baden-württemberg',\n",
       "  'time_series': {'test': array([1319, 1319, 1319, ..., 1369, 1489, 1489]),\n",
       "   'train': array([1399, 1399, 1399, ..., 1319, 1319, 1319])}},\n",
       " 14974: {'abahn': False,\n",
       "  'brand': 'aral',\n",
       "  'bstr': True,\n",
       "  'county': '09189',\n",
       "  'sstr': False,\n",
       "  'state': 'bayern',\n",
       "  'time_series': {'test': array([1399, 1399, 1399, ..., 1379, 1489, 1489]),\n",
       "   'train': array([1379, 1379, 1379, ..., 1399, 1399, 1399])}}}"
      ]
     },
     "execution_count": 3,
     "metadata": {},
     "output_type": "execute_result"
    }
   ],
   "source": [
    "prepared_data"
   ]
  },
  {
   "cell_type": "code",
   "execution_count": 4,
   "metadata": {},
   "outputs": [],
   "source": [
    "for key in prepared_data:\n",
    "    prepared_data[key][\"time_series\"][\"test\"] = np.log(prepared_data[key][\"time_series\"][\"test\"].reshape(-1,1))\n",
    "    prepared_data[key][\"time_series\"][\"train\"] = np.log(prepared_data[key][\"time_series\"][\"train\"].reshape(-1,1))\n",
    "    "
   ]
  },
  {
   "cell_type": "code",
   "execution_count": 6,
   "metadata": {},
   "outputs": [],
   "source": [
    "from statsmodels.tsa.stattools import pacf\n",
    "x_pacf=pacf( prepared_data[2916]['time_series']['train'] , nlags =10, method='ols')"
   ]
  },
  {
   "cell_type": "code",
   "execution_count": 7,
   "metadata": {},
   "outputs": [
    {
     "data": {
      "text/plain": [
       "array([ 1.        ,  0.95633229, -0.03137276, -0.02696067, -0.02561561,\n",
       "       -0.02870637, -0.02368026, -0.01004432,  0.28164104,  0.12105917,\n",
       "        0.04124528])"
      ]
     },
     "execution_count": 7,
     "metadata": {},
     "output_type": "execute_result"
    }
   ],
   "source": [
    "x_pacf"
   ]
  },
  {
   "cell_type": "code",
   "execution_count": 8,
   "metadata": {},
   "outputs": [
    {
     "name": "stderr",
     "output_type": "stream",
     "text": [
      "Using TensorFlow backend.\n"
     ]
    },
    {
     "ename": "ImportError",
     "evalue": "No module named 'TimeSeriesNnet'",
     "output_type": "error",
     "traceback": [
      "\u001b[0;31m---------------------------------------------------------------------------\u001b[0m",
      "\u001b[0;31mImportError\u001b[0m                               Traceback (most recent call last)",
      "\u001b[0;32m<ipython-input-8-b4c15e25b30d>\u001b[0m in \u001b[0;36m<module>\u001b[0;34m()\u001b[0m\n\u001b[0;32m----> 1\u001b[0;31m \u001b[0;32mfrom\u001b[0m \u001b[0mnnet_ts\u001b[0m \u001b[0;32mimport\u001b[0m \u001b[0;34m*\u001b[0m\u001b[0;34m\u001b[0m\u001b[0m\n\u001b[0m\u001b[1;32m      2\u001b[0m \u001b[0mcount\u001b[0m \u001b[0;34m=\u001b[0m \u001b[0;36m0\u001b[0m\u001b[0;34m\u001b[0m\u001b[0m\n\u001b[1;32m      3\u001b[0m \u001b[0mahead\u001b[0m \u001b[0;34m=\u001b[0m\u001b[0;36m12\u001b[0m\u001b[0;34m\u001b[0m\u001b[0m\n\u001b[1;32m      4\u001b[0m \u001b[0mpred\u001b[0m \u001b[0;34m=\u001b[0m\u001b[0;34m[\u001b[0m\u001b[0;34m]\u001b[0m\u001b[0;34m\u001b[0m\u001b[0m\n",
      "\u001b[0;32m/usr/local/lib/python3.5/dist-packages/nnet_ts/__init__.py\u001b[0m in \u001b[0;36m<module>\u001b[0;34m()\u001b[0m\n\u001b[1;32m      5\u001b[0m \u001b[0;32mfrom\u001b[0m \u001b[0mkeras\u001b[0m\u001b[0;34m.\u001b[0m\u001b[0mlayers\u001b[0m\u001b[0;34m.\u001b[0m\u001b[0mcore\u001b[0m \u001b[0;32mimport\u001b[0m \u001b[0mDense\u001b[0m\u001b[0;34m,\u001b[0m \u001b[0mActivation\u001b[0m\u001b[0;34m,\u001b[0m \u001b[0mDropout\u001b[0m\u001b[0;34m\u001b[0m\u001b[0m\n\u001b[1;32m      6\u001b[0m \u001b[0;32mfrom\u001b[0m \u001b[0msklearn\u001b[0m\u001b[0;34m.\u001b[0m\u001b[0mpreprocessing\u001b[0m \u001b[0;32mimport\u001b[0m \u001b[0mStandardScaler\u001b[0m\u001b[0;34m\u001b[0m\u001b[0m\n\u001b[0;32m----> 7\u001b[0;31m \u001b[0;32mfrom\u001b[0m \u001b[0mTimeSeriesNnet\u001b[0m \u001b[0;32mimport\u001b[0m \u001b[0mTimeSeriesNnet\u001b[0m\u001b[0;34m\u001b[0m\u001b[0m\n\u001b[0m",
      "\u001b[0;31mImportError\u001b[0m: No module named 'TimeSeriesNnet'"
     ]
    }
   ],
   "source": [
    "from nnet_ts import *\n",
    "count = 0\n",
    "ahead =12\n",
    "pred =[]"
   ]
  },
  {
   "cell_type": "code",
   "execution_count": null,
   "metadata": {},
   "outputs": [],
   "source": []
  }
 ],
 "metadata": {
  "kernelspec": {
   "display_name": "Python 3",
   "language": "python",
   "name": "python3"
  },
  "language_info": {
   "codemirror_mode": {
    "name": "ipython",
    "version": 3
   },
   "file_extension": ".py",
   "mimetype": "text/x-python",
   "name": "python",
   "nbconvert_exporter": "python",
   "pygments_lexer": "ipython3",
   "version": "3.5.2"
  }
 },
 "nbformat": 4,
 "nbformat_minor": 2
}
