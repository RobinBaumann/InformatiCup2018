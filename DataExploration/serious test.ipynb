{
 "cells": [
  {
   "cell_type": "code",
   "execution_count": 49,
   "metadata": {},
   "outputs": [],
   "source": [
    "import sys\n",
    "import numpy as np\n",
    "sys.path.append('../')\n",
    "from model import data_preparation as prep"
   ]
  },
  {
   "cell_type": "code",
   "execution_count": 62,
   "metadata": {},
   "outputs": [],
   "source": [
    "con = prep.create_connection()\n",
    "prepared_data = prep.prepare_data(con)"
   ]
  },
  {
   "cell_type": "code",
   "execution_count": 63,
   "metadata": {},
   "outputs": [
    {
     "data": {
      "text/plain": [
       "{257: {'abahn': True,\n",
       "  'brand': 'shell',\n",
       "  'bstr': True,\n",
       "  'county': '01055',\n",
       "  'sstr': False,\n",
       "  'state': 'schleswig-holstein',\n",
       "  'time_series': {'test': array([1379, 1379, 1379, ..., 1349, 1489, 1489]),\n",
       "   'train': array([1399, 1399, 1399, ..., 1379, 1379, 1379])}},\n",
       " 569: {'abahn': True,\n",
       "  'brand': 'hoyer',\n",
       "  'bstr': True,\n",
       "  'county': '13072',\n",
       "  'sstr': False,\n",
       "  'state': 'mecklenburg-vorpommern',\n",
       "  'time_series': {'test': array([1299, 1299, 1299, ..., 1289, 1289, 1399]),\n",
       "   'train': array([1339, 1339, 1339, ..., 1339, 1299, 1299])}},\n",
       " 862: {'abahn': False,\n",
       "  'brand': 'aral',\n",
       "  'bstr': True,\n",
       "  'county': '020000000000',\n",
       "  'sstr': True,\n",
       "  'state': 'hamburg',\n",
       "  'time_series': {'test': array([1329, 1329, 1329, ..., 1329, 1489, 1489]),\n",
       "   'train': array([1319, 1319, 1319, ..., 1349, 1349, 1329])}},\n",
       " 2720: {'abahn': False,\n",
       "  'brand': 'raiffeisen',\n",
       "  'bstr': True,\n",
       "  'county': '03456',\n",
       "  'sstr': False,\n",
       "  'state': 'niedersachsen',\n",
       "  'time_series': {'test': array([1399, 1399, 1399, ..., 1359, 1359, 1359]),\n",
       "   'train': array([1319, 1319, 1319, ..., 1399, 1399, 1399])}},\n",
       " 2888: {'abahn': True,\n",
       "  'brand': 'aral',\n",
       "  'bstr': True,\n",
       "  'county': '110000000000',\n",
       "  'sstr': False,\n",
       "  'state': 'berlin',\n",
       "  'time_series': {'test': array([1319, 1319, 1319, ..., 1359, 1489, 1489]),\n",
       "   'train': array([1379, 1379, 1379, ..., 1319, 1319, 1319])}},\n",
       " 2933: {'abahn': False,\n",
       "  'brand': 'markant',\n",
       "  'bstr': True,\n",
       "  'county': '03456',\n",
       "  'sstr': True,\n",
       "  'state': 'niedersachsen',\n",
       "  'time_series': {'test': array([1419, 1419, 1419, ..., 1409, 1409, 1479]),\n",
       "   'train': array([1359, 1359, 1359, ..., 1439, 1419, 1419])}},\n",
       " 4243: {'abahn': False,\n",
       "  'brand': 'westfalen',\n",
       "  'bstr': False,\n",
       "  'county': '05558',\n",
       "  'sstr': False,\n",
       "  'state': 'nordrhein-westfalen',\n",
       "  'time_series': {'test': array([1339, 1339, 1339, ..., 1349, 1499, 1499]),\n",
       "   'train': array([1379, 1379, 1379, ..., 1339, 1339, 1339])}},\n",
       " 6399: {'abahn': True,\n",
       "  'brand': 'mr. wash autoservice ag',\n",
       "  'bstr': True,\n",
       "  'county': '051140000000',\n",
       "  'sstr': True,\n",
       "  'state': 'nordrhein-westfalen',\n",
       "  'time_series': {'test': array([1339, 1339, 1339, ..., 1309, 1309, 1309]),\n",
       "   'train': array([1239, 1239, 1239, ..., 1369, 1359, 1359])}},\n",
       " 6517: {'abahn': True,\n",
       "  'brand': 'shell',\n",
       "  'bstr': True,\n",
       "  'county': '05158',\n",
       "  'sstr': False,\n",
       "  'state': 'nordrhein-westfalen',\n",
       "  'time_series': {'test': array([1339, 1339, 1379, ..., 1399, 1489, 1489]),\n",
       "   'train': array([1399, 1399, 1399, ..., 1369, 1339, 1339])}},\n",
       " 6729: {'abahn': True,\n",
       "  'brand': 'richter mineralöl gmbh & co kg',\n",
       "  'bstr': True,\n",
       "  'county': '05962',\n",
       "  'sstr': False,\n",
       "  'state': 'nordrhein-westfalen',\n",
       "  'time_series': {'test': array([1339, 1339, 1339, ..., 1329, 1329, 1329]),\n",
       "   'train': array([1489, 1489, 1489, ..., 1339, 1339, 1339])}},\n",
       " 6805: {'abahn': False,\n",
       "  'brand': 'total',\n",
       "  'bstr': True,\n",
       "  'county': '16064',\n",
       "  'sstr': False,\n",
       "  'state': 'thüringen',\n",
       "  'time_series': {'test': array([1349, 1349, 1349, ..., 1469, 1469, 1469]),\n",
       "   'train': array([1359, 1359, 1359, ..., 1379, 1379, 1379])}},\n",
       " 8214: {'abahn': True,\n",
       "  'brand': 'total',\n",
       "  'bstr': True,\n",
       "  'county': '05334',\n",
       "  'sstr': False,\n",
       "  'state': 'nordrhein-westfalen',\n",
       "  'time_series': {'test': array([1349, 1349, 1349, ..., 1479, 1479, 1479]),\n",
       "   'train': array([1379, 1379, 1379, ..., 1349, 1349, 1349])}},\n",
       " 8528: {'abahn': True,\n",
       "  'brand': 'aral',\n",
       "  'bstr': True,\n",
       "  'county': '14521',\n",
       "  'sstr': False,\n",
       "  'state': 'sachsen',\n",
       "  'time_series': {'test': array([1329, 1329, 1329, ..., 1329, 1489, 1499]),\n",
       "   'train': array([1379, 1379, 1379, ..., 1329, 1329, 1329])}},\n",
       " 8688: {'abahn': True,\n",
       "  'brand': 'shell',\n",
       "  'bstr': True,\n",
       "  'county': '06631',\n",
       "  'sstr': False,\n",
       "  'state': 'hessen',\n",
       "  'time_series': {'test': array([1359, 1359, 1359, ..., 1339, 1489, 1489]),\n",
       "   'train': array([1399, 1399, 1399, ..., 1389, 1389, 1389])}},\n",
       " 12129: {'abahn': False,\n",
       "  'brand': 'hem',\n",
       "  'bstr': True,\n",
       "  'county': '07337',\n",
       "  'sstr': False,\n",
       "  'state': 'rheinland-pfalz',\n",
       "  'time_series': {'test': array([1309, 1299, 1299, ..., 1299, 1299, 1399]),\n",
       "   'train': array([1339, 1339, 1339, ..., 1329, 1329, 1319])}},\n",
       " 12811: {'abahn': True,\n",
       "  'brand': 'omv',\n",
       "  'bstr': True,\n",
       "  'county': '09176',\n",
       "  'sstr': True,\n",
       "  'state': 'bayern',\n",
       "  'time_series': {'test': array([1319, 1309, 1309, ..., 1299, 1429, 1429]),\n",
       "   'train': array([1389, 1389, 1389, ..., 1339, 1329, 1329])}},\n",
       " 13247: {'abahn': True,\n",
       "  'brand': 'total',\n",
       "  'bstr': True,\n",
       "  'county': '08115',\n",
       "  'sstr': True,\n",
       "  'state': 'baden-württemberg',\n",
       "  'time_series': {'test': array([1299, 1299, 1299, ..., 1459, 1459, 1459]),\n",
       "   'train': array([1379, 1379, 1379, ..., 1309, 1309, 1299])}},\n",
       " 13464: {'abahn': True,\n",
       "  'brand': 'shell',\n",
       "  'bstr': True,\n",
       "  'county': '08317',\n",
       "  'sstr': True,\n",
       "  'state': 'baden-württemberg',\n",
       "  'time_series': {'test': array([1359, 1359, 1359, ..., 1369, 1489, 1489]),\n",
       "   'train': array([1399, 1399, 1399, ..., 1379, 1379, 1369])}},\n",
       " 14399: {'abahn': True,\n",
       "  'brand': 'shell',\n",
       "  'bstr': True,\n",
       "  'county': '091620000000',\n",
       "  'sstr': True,\n",
       "  'state': 'bayern',\n",
       "  'time_series': {'test': array([1359, 1359, 1359, ..., 1349, 1489, 1489]),\n",
       "   'train': array([1399, 1399, 1399, ..., 1359, 1359, 1359])}},\n",
       " 15141: {'abahn': False,\n",
       "  'brand': 'baywa',\n",
       "  'bstr': True,\n",
       "  'county': '09776',\n",
       "  'sstr': False,\n",
       "  'state': 'bayern',\n",
       "  'time_series': {'test': array([1329, 1329, 1329, ..., 1379, 1379, 1379]),\n",
       "   'train': array([1349, 1349, 1349, ..., 1389, 1349, 1349])}}}"
      ]
     },
     "execution_count": 63,
     "metadata": {},
     "output_type": "execute_result"
    }
   ],
   "source": [
    "prepared_data"
   ]
  },
  {
   "cell_type": "code",
   "execution_count": 54,
   "metadata": {},
   "outputs": [],
   "source": [
    "for key in prepared_data:\n",
    "    prepared_data[key][\"time_series\"][\"test\"] = np.log(prepared_data[key][\"time_series\"][\"test\"].reshape(-1,1))\n",
    "    prepared_data[key][\"time_series\"][\"train\"] = np.log(prepared_data[key][\"time_series\"][\"train\"].reshape(-1,1))\n",
    "    "
   ]
  },
  {
   "cell_type": "code",
   "execution_count": 56,
   "metadata": {},
   "outputs": [],
   "source": [
    "from statsmodels.tsa.stattools import pacf\n",
    "x_pacf=pacf( prepared_data[593]['time_series']['train'] , nlags =10, method='ols')"
   ]
  },
  {
   "cell_type": "code",
   "execution_count": 57,
   "metadata": {},
   "outputs": [
    {
     "data": {
      "text/plain": [
       "array([ 1.        ,  0.93359773, -0.03709959, -0.07266407, -0.04372252,\n",
       "       -0.04391209, -0.03247097, -0.00742075,  0.22071472,  0.18765126,\n",
       "        0.08870031])"
      ]
     },
     "execution_count": 57,
     "metadata": {},
     "output_type": "execute_result"
    }
   ],
   "source": [
    "x_pacf"
   ]
  },
  {
   "cell_type": "code",
   "execution_count": 58,
   "metadata": {},
   "outputs": [],
   "source": [
    "\n",
    "from nnet_ts import *\n",
    "count = 0\n",
    "ahead =12"
   ]
  },
  {
   "cell_type": "code",
   "execution_count": 59,
   "metadata": {},
   "outputs": [
    {
     "name": "stderr",
     "output_type": "stream",
     "text": [
      "INFO:Building regressor matrix\n",
      "INFO:Scaling data\n",
      "INFO:Checking network consistency\n",
      "INFO:Training neural net\n",
      "/usr/local/lib/python3.5/dist-packages/keras/models.py:939: UserWarning: The `nb_epoch` argument in `fit` has been renamed `epochs`.\n",
      "  warnings.warn('The `nb_epoch` argument in `fit` '\n"
     ]
    },
    {
     "ename": "KeyboardInterrupt",
     "evalue": "",
     "output_type": "error",
     "traceback": [
      "\u001b[0;31m---------------------------------------------------------------------------\u001b[0m",
      "\u001b[0;31mKeyboardInterrupt\u001b[0m                         Traceback (most recent call last)",
      "\u001b[0;32m<ipython-input-59-8fde158e213e>\u001b[0m in \u001b[0;36m<module>\u001b[0;34m()\u001b[0m\n\u001b[1;32m     16\u001b[0m         \u001b[0;32mreturn\u001b[0m \u001b[0mfit1\u001b[0m\u001b[0;34m\u001b[0m\u001b[0m\n\u001b[1;32m     17\u001b[0m \u001b[0;34m\u001b[0m\u001b[0m\n\u001b[0;32m---> 18\u001b[0;31m \u001b[0mtrain_net_on_station\u001b[0m\u001b[0;34m(\u001b[0m\u001b[0mprepared_data\u001b[0m\u001b[0;34m[\u001b[0m\u001b[0;36m593\u001b[0m\u001b[0;34m]\u001b[0m\u001b[0;34m[\u001b[0m\u001b[0;34m'time_series'\u001b[0m\u001b[0;34m]\u001b[0m\u001b[0;34m[\u001b[0m\u001b[0;34m'train'\u001b[0m\u001b[0;34m]\u001b[0m\u001b[0;34m)\u001b[0m\u001b[0;34m\u001b[0m\u001b[0m\n\u001b[0m",
      "\u001b[0;32m<ipython-input-59-8fde158e213e>\u001b[0m in \u001b[0;36mtrain_net_on_station\u001b[0;34m(trainset, ahead, count)\u001b[0m\n\u001b[1;32m      6\u001b[0m         \u001b[0mnp\u001b[0m\u001b[0;34m.\u001b[0m\u001b[0mrandom\u001b[0m\u001b[0;34m.\u001b[0m\u001b[0mseed\u001b[0m\u001b[0;34m(\u001b[0m\u001b[0;36m2016\u001b[0m\u001b[0;34m)\u001b[0m\u001b[0;34m\u001b[0m\u001b[0m\n\u001b[1;32m      7\u001b[0m         \u001b[0mfit1\u001b[0m \u001b[0;34m=\u001b[0m \u001b[0mTimeSeriesNnet\u001b[0m\u001b[0;34m(\u001b[0m\u001b[0mhidden_layers\u001b[0m \u001b[0;34m=\u001b[0m\u001b[0;34m[\u001b[0m\u001b[0;36m7\u001b[0m\u001b[0;34m,\u001b[0m\u001b[0;36m3\u001b[0m\u001b[0;34m]\u001b[0m\u001b[0;34m,\u001b[0m\u001b[0mactivation_functions\u001b[0m \u001b[0;34m=\u001b[0m \u001b[0;34m[\u001b[0m \u001b[0;34m\"tanh\"\u001b[0m \u001b[0;34m,\u001b[0m \u001b[0;34m\"tanh\"\u001b[0m \u001b[0;34m]\u001b[0m \u001b[0;34m)\u001b[0m\u001b[0;34m\u001b[0m\u001b[0m\n\u001b[0;32m----> 8\u001b[0;31m         \u001b[0mfit1\u001b[0m\u001b[0;34m.\u001b[0m\u001b[0mfit\u001b[0m\u001b[0;34m(\u001b[0m\u001b[0mx\u001b[0m\u001b[0;34m[\u001b[0m\u001b[0;36m0\u001b[0m\u001b[0;34m:\u001b[0m\u001b[0mend\u001b[0m\u001b[0;34m]\u001b[0m\u001b[0;34m,\u001b[0m\u001b[0mlag\u001b[0m \u001b[0;34m=\u001b[0m\u001b[0;36m1\u001b[0m\u001b[0;34m,\u001b[0m\u001b[0mepochs\u001b[0m \u001b[0;34m=\u001b[0m \u001b[0;36m100\u001b[0m\u001b[0;34m)\u001b[0m\u001b[0;34m\u001b[0m\u001b[0m\n\u001b[0m\u001b[1;32m      9\u001b[0m \u001b[0;34m\u001b[0m\u001b[0m\n\u001b[1;32m     10\u001b[0m \u001b[0;34m\u001b[0m\u001b[0m\n",
      "\u001b[0;32m/usr/local/lib/python3.5/dist-packages/nnet_ts/TimeSeriesNnet.py\u001b[0m in \u001b[0;36mfit\u001b[0;34m(self, timeseries, lag, epochs, verbose)\u001b[0m\n\u001b[1;32m     58\u001b[0m                 \u001b[0mlogging\u001b[0m\u001b[0;34m.\u001b[0m\u001b[0minfo\u001b[0m\u001b[0;34m(\u001b[0m\u001b[0;34m\"Training neural net\"\u001b[0m\u001b[0;34m)\u001b[0m\u001b[0;34m\u001b[0m\u001b[0m\n\u001b[1;32m     59\u001b[0m                 \u001b[0;31m# Train neural net\u001b[0m\u001b[0;34m\u001b[0m\u001b[0;34m\u001b[0m\u001b[0m\n\u001b[0;32m---> 60\u001b[0;31m                 \u001b[0mself\u001b[0m\u001b[0;34m.\u001b[0m\u001b[0mnn\u001b[0m\u001b[0;34m.\u001b[0m\u001b[0mfit\u001b[0m\u001b[0;34m(\u001b[0m\u001b[0mself\u001b[0m\u001b[0;34m.\u001b[0m\u001b[0mX\u001b[0m\u001b[0;34m,\u001b[0m \u001b[0mself\u001b[0m\u001b[0;34m.\u001b[0m\u001b[0my\u001b[0m\u001b[0;34m,\u001b[0m \u001b[0mnb_epoch\u001b[0m \u001b[0;34m=\u001b[0m \u001b[0mself\u001b[0m\u001b[0;34m.\u001b[0m\u001b[0mepochs\u001b[0m\u001b[0;34m,\u001b[0m \u001b[0mverbose\u001b[0m \u001b[0;34m=\u001b[0m \u001b[0mself\u001b[0m\u001b[0;34m.\u001b[0m\u001b[0mverbose\u001b[0m\u001b[0;34m)\u001b[0m\u001b[0;34m\u001b[0m\u001b[0m\n\u001b[0m\u001b[1;32m     61\u001b[0m \u001b[0;34m\u001b[0m\u001b[0m\n\u001b[1;32m     62\u001b[0m         \u001b[0;32mdef\u001b[0m \u001b[0mpredict_ahead\u001b[0m\u001b[0;34m(\u001b[0m\u001b[0mself\u001b[0m\u001b[0;34m,\u001b[0m \u001b[0mn_ahead\u001b[0m \u001b[0;34m=\u001b[0m \u001b[0;36m1\u001b[0m\u001b[0;34m)\u001b[0m\u001b[0;34m:\u001b[0m\u001b[0;34m\u001b[0m\u001b[0m\n",
      "\u001b[0;32m/usr/local/lib/python3.5/dist-packages/keras/models.py\u001b[0m in \u001b[0;36mfit\u001b[0;34m(self, x, y, batch_size, epochs, verbose, callbacks, validation_split, validation_data, shuffle, class_weight, sample_weight, initial_epoch, steps_per_epoch, validation_steps, **kwargs)\u001b[0m\n\u001b[1;32m    958\u001b[0m                               \u001b[0minitial_epoch\u001b[0m\u001b[0;34m=\u001b[0m\u001b[0minitial_epoch\u001b[0m\u001b[0;34m,\u001b[0m\u001b[0;34m\u001b[0m\u001b[0m\n\u001b[1;32m    959\u001b[0m                               \u001b[0msteps_per_epoch\u001b[0m\u001b[0;34m=\u001b[0m\u001b[0msteps_per_epoch\u001b[0m\u001b[0;34m,\u001b[0m\u001b[0;34m\u001b[0m\u001b[0m\n\u001b[0;32m--> 960\u001b[0;31m                               validation_steps=validation_steps)\n\u001b[0m\u001b[1;32m    961\u001b[0m \u001b[0;34m\u001b[0m\u001b[0m\n\u001b[1;32m    962\u001b[0m     def evaluate(self, x, y, batch_size=32, verbose=1,\n",
      "\u001b[0;32m/usr/local/lib/python3.5/dist-packages/keras/engine/training.py\u001b[0m in \u001b[0;36mfit\u001b[0;34m(self, x, y, batch_size, epochs, verbose, callbacks, validation_split, validation_data, shuffle, class_weight, sample_weight, initial_epoch, steps_per_epoch, validation_steps, **kwargs)\u001b[0m\n\u001b[1;32m   1655\u001b[0m                               \u001b[0minitial_epoch\u001b[0m\u001b[0;34m=\u001b[0m\u001b[0minitial_epoch\u001b[0m\u001b[0;34m,\u001b[0m\u001b[0;34m\u001b[0m\u001b[0m\n\u001b[1;32m   1656\u001b[0m                               \u001b[0msteps_per_epoch\u001b[0m\u001b[0;34m=\u001b[0m\u001b[0msteps_per_epoch\u001b[0m\u001b[0;34m,\u001b[0m\u001b[0;34m\u001b[0m\u001b[0m\n\u001b[0;32m-> 1657\u001b[0;31m                               validation_steps=validation_steps)\n\u001b[0m\u001b[1;32m   1658\u001b[0m \u001b[0;34m\u001b[0m\u001b[0m\n\u001b[1;32m   1659\u001b[0m     def evaluate(self, x=None, y=None,\n",
      "\u001b[0;32m/usr/local/lib/python3.5/dist-packages/keras/engine/training.py\u001b[0m in \u001b[0;36m_fit_loop\u001b[0;34m(self, f, ins, out_labels, batch_size, epochs, verbose, callbacks, val_f, val_ins, shuffle, callback_metrics, initial_epoch, steps_per_epoch, validation_steps)\u001b[0m\n\u001b[1;32m   1202\u001b[0m                             \u001b[0mins_batch\u001b[0m \u001b[0;34m=\u001b[0m \u001b[0m_slice_arrays\u001b[0m\u001b[0;34m(\u001b[0m\u001b[0mins\u001b[0m\u001b[0;34m[\u001b[0m\u001b[0;34m:\u001b[0m\u001b[0;34m-\u001b[0m\u001b[0;36m1\u001b[0m\u001b[0;34m]\u001b[0m\u001b[0;34m,\u001b[0m \u001b[0mbatch_ids\u001b[0m\u001b[0;34m)\u001b[0m \u001b[0;34m+\u001b[0m \u001b[0;34m[\u001b[0m\u001b[0mins\u001b[0m\u001b[0;34m[\u001b[0m\u001b[0;34m-\u001b[0m\u001b[0;36m1\u001b[0m\u001b[0;34m]\u001b[0m\u001b[0;34m]\u001b[0m\u001b[0;34m\u001b[0m\u001b[0m\n\u001b[1;32m   1203\u001b[0m                         \u001b[0;32melse\u001b[0m\u001b[0;34m:\u001b[0m\u001b[0;34m\u001b[0m\u001b[0m\n\u001b[0;32m-> 1204\u001b[0;31m                             \u001b[0mins_batch\u001b[0m \u001b[0;34m=\u001b[0m \u001b[0m_slice_arrays\u001b[0m\u001b[0;34m(\u001b[0m\u001b[0mins\u001b[0m\u001b[0;34m,\u001b[0m \u001b[0mbatch_ids\u001b[0m\u001b[0;34m)\u001b[0m\u001b[0;34m\u001b[0m\u001b[0m\n\u001b[0m\u001b[1;32m   1205\u001b[0m                     \u001b[0;32mexcept\u001b[0m \u001b[0mTypeError\u001b[0m\u001b[0;34m:\u001b[0m\u001b[0;34m\u001b[0m\u001b[0m\n\u001b[1;32m   1206\u001b[0m                         raise TypeError('TypeError while preparing batch. '\n",
      "\u001b[0;32m/usr/local/lib/python3.5/dist-packages/keras/engine/training.py\u001b[0m in \u001b[0;36m_slice_arrays\u001b[0;34m(arrays, start, stop)\u001b[0m\n\u001b[1;32m    413\u001b[0m             \u001b[0;32mif\u001b[0m \u001b[0mhasattr\u001b[0m\u001b[0;34m(\u001b[0m\u001b[0mstart\u001b[0m\u001b[0;34m,\u001b[0m \u001b[0;34m'shape'\u001b[0m\u001b[0;34m)\u001b[0m\u001b[0;34m:\u001b[0m\u001b[0;34m\u001b[0m\u001b[0m\n\u001b[1;32m    414\u001b[0m                 \u001b[0mstart\u001b[0m \u001b[0;34m=\u001b[0m \u001b[0mstart\u001b[0m\u001b[0;34m.\u001b[0m\u001b[0mtolist\u001b[0m\u001b[0;34m(\u001b[0m\u001b[0;34m)\u001b[0m\u001b[0;34m\u001b[0m\u001b[0m\n\u001b[0;32m--> 415\u001b[0;31m             \u001b[0;32mreturn\u001b[0m \u001b[0;34m[\u001b[0m\u001b[0;32mNone\u001b[0m \u001b[0;32mif\u001b[0m \u001b[0mx\u001b[0m \u001b[0;32mis\u001b[0m \u001b[0;32mNone\u001b[0m \u001b[0;32melse\u001b[0m \u001b[0mx\u001b[0m\u001b[0;34m[\u001b[0m\u001b[0mstart\u001b[0m\u001b[0;34m]\u001b[0m \u001b[0;32mfor\u001b[0m \u001b[0mx\u001b[0m \u001b[0;32min\u001b[0m \u001b[0marrays\u001b[0m\u001b[0;34m]\u001b[0m\u001b[0;34m\u001b[0m\u001b[0m\n\u001b[0m\u001b[1;32m    416\u001b[0m         \u001b[0;32melse\u001b[0m\u001b[0;34m:\u001b[0m\u001b[0;34m\u001b[0m\u001b[0m\n\u001b[1;32m    417\u001b[0m             \u001b[0;32mreturn\u001b[0m \u001b[0;34m[\u001b[0m\u001b[0;32mNone\u001b[0m \u001b[0;32mif\u001b[0m \u001b[0mx\u001b[0m \u001b[0;32mis\u001b[0m \u001b[0;32mNone\u001b[0m \u001b[0;32melse\u001b[0m \u001b[0mx\u001b[0m\u001b[0;34m[\u001b[0m\u001b[0mstart\u001b[0m\u001b[0;34m:\u001b[0m\u001b[0mstop\u001b[0m\u001b[0;34m]\u001b[0m \u001b[0;32mfor\u001b[0m \u001b[0mx\u001b[0m \u001b[0;32min\u001b[0m \u001b[0marrays\u001b[0m\u001b[0;34m]\u001b[0m\u001b[0;34m\u001b[0m\u001b[0m\n",
      "\u001b[0;32m/usr/local/lib/python3.5/dist-packages/keras/engine/training.py\u001b[0m in \u001b[0;36m<listcomp>\u001b[0;34m(.0)\u001b[0m\n\u001b[1;32m    413\u001b[0m             \u001b[0;32mif\u001b[0m \u001b[0mhasattr\u001b[0m\u001b[0;34m(\u001b[0m\u001b[0mstart\u001b[0m\u001b[0;34m,\u001b[0m \u001b[0;34m'shape'\u001b[0m\u001b[0;34m)\u001b[0m\u001b[0;34m:\u001b[0m\u001b[0;34m\u001b[0m\u001b[0m\n\u001b[1;32m    414\u001b[0m                 \u001b[0mstart\u001b[0m \u001b[0;34m=\u001b[0m \u001b[0mstart\u001b[0m\u001b[0;34m.\u001b[0m\u001b[0mtolist\u001b[0m\u001b[0;34m(\u001b[0m\u001b[0;34m)\u001b[0m\u001b[0;34m\u001b[0m\u001b[0m\n\u001b[0;32m--> 415\u001b[0;31m             \u001b[0;32mreturn\u001b[0m \u001b[0;34m[\u001b[0m\u001b[0;32mNone\u001b[0m \u001b[0;32mif\u001b[0m \u001b[0mx\u001b[0m \u001b[0;32mis\u001b[0m \u001b[0;32mNone\u001b[0m \u001b[0;32melse\u001b[0m \u001b[0mx\u001b[0m\u001b[0;34m[\u001b[0m\u001b[0mstart\u001b[0m\u001b[0;34m]\u001b[0m \u001b[0;32mfor\u001b[0m \u001b[0mx\u001b[0m \u001b[0;32min\u001b[0m \u001b[0marrays\u001b[0m\u001b[0;34m]\u001b[0m\u001b[0;34m\u001b[0m\u001b[0m\n\u001b[0m\u001b[1;32m    416\u001b[0m         \u001b[0;32melse\u001b[0m\u001b[0;34m:\u001b[0m\u001b[0;34m\u001b[0m\u001b[0m\n\u001b[1;32m    417\u001b[0m             \u001b[0;32mreturn\u001b[0m \u001b[0;34m[\u001b[0m\u001b[0;32mNone\u001b[0m \u001b[0;32mif\u001b[0m \u001b[0mx\u001b[0m \u001b[0;32mis\u001b[0m \u001b[0;32mNone\u001b[0m \u001b[0;32melse\u001b[0m \u001b[0mx\u001b[0m\u001b[0;34m[\u001b[0m\u001b[0mstart\u001b[0m\u001b[0;34m:\u001b[0m\u001b[0mstop\u001b[0m\u001b[0;34m]\u001b[0m \u001b[0;32mfor\u001b[0m \u001b[0mx\u001b[0m \u001b[0;32min\u001b[0m \u001b[0marrays\u001b[0m\u001b[0;34m]\u001b[0m\u001b[0;34m\u001b[0m\u001b[0m\n",
      "\u001b[0;31mKeyboardInterrupt\u001b[0m: "
     ]
    }
   ],
   "source": [
    "def train_net_on_station(trainset, ahead=12, count = 0):\n",
    "    x = trainset\n",
    "    x=x.reshape ( -1)\n",
    "    while(count < ahead):\n",
    "        end =len(x)-ahead+count\n",
    "        np.random.seed(2016)\n",
    "        fit1 = TimeSeriesNnet(hidden_layers =[7,3],activation_functions = [ \"tanh\" , \"tanh\" ] )\n",
    "        fit1.fit(x[0:end],lag =1,epochs = 100)\n",
    "\n",
    "\n",
    "        out = fit1.predict_ahead(n_ahead = 1)\n",
    "        print ( \" Obs : \" , count +1, \" x = \" , round( x[count] , 4 ) , \" prediction =\", pd.Series(out))\n",
    "\n",
    "        pred.append ( out )\n",
    "        count = count + 1\n",
    "        return fit1\n",
    "    \n",
    "train_net_on_station(prepared_data[593]['time_series']['train'])"
   ]
  },
  {
   "cell_type": "code",
   "execution_count": 65,
   "metadata": {},
   "outputs": [
    {
     "ename": "KeyError",
     "evalue": "15",
     "output_type": "error",
     "traceback": [
      "\u001b[0;31m---------------------------------------------------------------------------\u001b[0m",
      "\u001b[0;31mKeyError\u001b[0m                                  Traceback (most recent call last)",
      "\u001b[0;32m<ipython-input-65-5fe27d93611f>\u001b[0m in \u001b[0;36m<module>\u001b[0;34m()\u001b[0m\n\u001b[1;32m     17\u001b[0m      \u001b[0;34m'thüringen'\u001b[0m\u001b[0;34m:\u001b[0m\u001b[0;36m16\u001b[0m\u001b[0;34m\u001b[0m\u001b[0m\n\u001b[1;32m     18\u001b[0m }\n\u001b[0;32m---> 19\u001b[0;31m \u001b[0mprepared_data\u001b[0m\u001b[0;34m[\u001b[0m\u001b[0;36m257\u001b[0m\u001b[0;34m]\u001b[0m\u001b[0;34m[\u001b[0m\u001b[0;34m\"state\"\u001b[0m\u001b[0;34m]\u001b[0m \u001b[0;34m=\u001b[0m \u001b[0mstates\u001b[0m\u001b[0;34m[\u001b[0m\u001b[0mprepared_data\u001b[0m\u001b[0;34m[\u001b[0m\u001b[0;36m257\u001b[0m\u001b[0;34m]\u001b[0m\u001b[0;34m[\u001b[0m\u001b[0;34m\"state\"\u001b[0m\u001b[0;34m]\u001b[0m\u001b[0;34m]\u001b[0m\u001b[0;34m\u001b[0m\u001b[0m\n\u001b[0m\u001b[1;32m     20\u001b[0m \u001b[0mprepared_data\u001b[0m\u001b[0;34m[\u001b[0m\u001b[0;36m257\u001b[0m\u001b[0;34m]\u001b[0m\u001b[0;34m\u001b[0m\u001b[0m\n",
      "\u001b[0;31mKeyError\u001b[0m: 15"
     ]
    }
   ],
   "source": [
    "def encodeState(data):\n",
    "    states = {\n",
    "     'baden-württemberg':1,\n",
    "     'bayern':2,\n",
    "     'berlin':3,\n",
    "     'brandenburg':4,\n",
    "     'bremen':5,\n",
    "     'hamburg':6,\n",
    "     'hessen':7,\n",
    "     'mecklenburg-vorpommern':8,\n",
    "     'niedersachsen':9,\n",
    "     'nordrhein-westfalen':10,\n",
    "     'rheinland-pfalz':11,\n",
    "     'saarland':12,\n",
    "     'sachsen':13,\n",
    "     'sachsen-anhalt':14,\n",
    "     'schleswig-holstein':15,\n",
    "     'thüringen':16\n",
    "    }\n",
    "    data = states[data[\"state\"]]\n",
    "    return data\n",
    "\n",
    "prepared_data[257]= encodeState(prepared_data[257])\n"
   ]
  },
  {
   "cell_type": "code",
   "execution_count": 69,
   "metadata": {},
   "outputs": [],
   "source": [
    "x_train = prepared_data[257][\"time_series\"][\"train\"][0:len(prepared_data[257][\"time_series\"][\"train\"])-1]\n",
    "y_train = prepared_data[257][\"time_series\"][\"train\"][1:len(prepared_data[257][\"time_series\"][\"train\"])]\n",
    "x_test = prepared_data[257][\"time_series\"][\"test\"][0:len(prepared_data[257][\"time_series\"][\"test\"])-1]\n",
    "y_test = prepared_data[257][\"time_series\"][\"test\"][1:len(prepared_data[257][\"time_series\"][\"test\"])]\n"
   ]
  },
  {
   "cell_type": "code",
   "execution_count": 73,
   "metadata": {},
   "outputs": [
    {
     "ename": "IndexError",
     "evalue": "list assignment index out of range",
     "output_type": "error",
     "traceback": [
      "\u001b[0;31m---------------------------------------------------------------------------\u001b[0m",
      "\u001b[0;31mIndexError\u001b[0m                                Traceback (most recent call last)",
      "\u001b[0;32m<ipython-input-73-139926edfd35>\u001b[0m in \u001b[0;36m<module>\u001b[0;34m()\u001b[0m\n\u001b[1;32m      1\u001b[0m \u001b[0mx_train_adjusted\u001b[0m \u001b[0;34m=\u001b[0m \u001b[0;34m[\u001b[0m\u001b[0;34m]\u001b[0m\u001b[0;34m\u001b[0m\u001b[0m\n\u001b[1;32m      2\u001b[0m \u001b[0;32mfor\u001b[0m \u001b[0mkey\u001b[0m \u001b[0;32min\u001b[0m \u001b[0mx_train\u001b[0m\u001b[0;34m:\u001b[0m\u001b[0;34m\u001b[0m\u001b[0m\n\u001b[0;32m----> 3\u001b[0;31m     \u001b[0mx_train_adjusted\u001b[0m\u001b[0;34m[\u001b[0m\u001b[0mkey\u001b[0m\u001b[0;34m]\u001b[0m \u001b[0;34m=\u001b[0m \u001b[0;34m[\u001b[0m\u001b[0mkey\u001b[0m\u001b[0;34m,\u001b[0m\u001b[0mprepared_data\u001b[0m\u001b[0;34m[\u001b[0m\u001b[0;36m257\u001b[0m\u001b[0;34m]\u001b[0m\u001b[0;34m[\u001b[0m\u001b[0;34m\"state\"\u001b[0m\u001b[0;34m]\u001b[0m\u001b[0;34m]\u001b[0m\u001b[0;34m\u001b[0m\u001b[0m\n\u001b[0m",
      "\u001b[0;31mIndexError\u001b[0m: list assignment index out of range"
     ]
    }
   ],
   "source": [
    "x_train_adjusted = []\n",
    "for key in x_train:\n",
    "    x_train_adjusted[key] = [key,prepared_data[257][\"state\"]]"
   ]
  },
  {
   "cell_type": "code",
   "execution_count": null,
   "metadata": {},
   "outputs": [],
   "source": []
  }
 ],
 "metadata": {
  "kernelspec": {
   "display_name": "Python 3",
   "language": "python",
   "name": "python3"
  },
  "language_info": {
   "codemirror_mode": {
    "name": "ipython",
    "version": 3
   },
   "file_extension": ".py",
   "mimetype": "text/x-python",
   "name": "python",
   "nbconvert_exporter": "python",
   "pygments_lexer": "ipython3",
   "version": "3.5.2"
  }
 },
 "nbformat": 4,
 "nbformat_minor": 2
}
