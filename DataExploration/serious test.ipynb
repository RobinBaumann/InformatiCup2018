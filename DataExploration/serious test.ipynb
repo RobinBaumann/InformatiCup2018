{
 "cells": [
  {
   "cell_type": "code",
   "execution_count": 1,
   "metadata": {
    "collapsed": true
   },
   "outputs": [],
   "source": [
    "import sys\n",
    "import numpy as np\n",
    "sys.path.append('../')\n",
    "from model import data_preparation as prep"
   ]
  },
  {
   "cell_type": "markdown",
   "metadata": {},
   "source": [
    "# Get Some Data"
   ]
  },
  {
   "cell_type": "code",
   "execution_count": null,
   "metadata": {
    "collapsed": true
   },
   "outputs": [],
   "source": [
    "con = prep.create_connection()\n",
    "prepared_data = prep.prepare_data(con,20)"
   ]
  },
  {
   "cell_type": "code",
   "execution_count": 3,
   "metadata": {},
   "outputs": [
    {
     "data": {
      "text/plain": [
       "{483: {'abahn': False,\n",
       "  'brand': 'oil!',\n",
       "  'bstr': True,\n",
       "  'county': '13075',\n",
       "  'sstr': False,\n",
       "  'state': 'mecklenburg-vorpommern',\n",
       "  'time_series': {'test': array([1289, 1289, 1289, ..., 1299, 1429, 1429]),\n",
       "   'train': array([1369, 1369, 1369, ..., 1289, 1289, 1289])}},\n",
       " 1292: {'abahn': True,\n",
       "  'brand': 'shell',\n",
       "  'bstr': True,\n",
       "  'county': '03359',\n",
       "  'sstr': False,\n",
       "  'state': 'niedersachsen',\n",
       "  'time_series': {'test': array([1339, 1339, 1329, ..., 1309, 1489, 1489]),\n",
       "   'train': array([1399, 1399, 1399, ..., 1379, 1359, 1339])}},\n",
       " 2227: {'abahn': False,\n",
       "  'brand': 'raiffeisen',\n",
       "  'bstr': False,\n",
       "  'county': '15081',\n",
       "  'sstr': False,\n",
       "  'state': 'sachsen-anhalt',\n",
       "  'time_series': {'test': array([1349, 1349, 1349, ..., 1349, 1349, 1349]),\n",
       "   'train': array([1269, 1269, 1269, ..., 1349, 1349, 1349])}},\n",
       " 2481: {'abahn': False,\n",
       "  'brand': 'raiffeisen',\n",
       "  'bstr': True,\n",
       "  'county': '03251',\n",
       "  'sstr': False,\n",
       "  'state': 'niedersachsen',\n",
       "  'time_series': {'test': array([1304, 1304, 1304, ..., 1304, 1304, 1394]),\n",
       "   'train': array([1364, 1364, 1364, ..., 1384, 1364, 1304])}},\n",
       " 2771: {'abahn': True,\n",
       "  'brand': 'bavaria petrol',\n",
       "  'bstr': True,\n",
       "  'county': '110000000000',\n",
       "  'sstr': False,\n",
       "  'state': 'berlin',\n",
       "  'time_series': {'test': array([1289, 1289, 1289, ..., 1319, 1319, 1439]),\n",
       "   'train': array([1369, 1369, 1369, ..., 1349, 1309, 1289])}},\n",
       " 3391: {'abahn': True,\n",
       "  'brand': 'markant',\n",
       "  'bstr': True,\n",
       "  'county': '03241',\n",
       "  'sstr': False,\n",
       "  'state': 'niedersachsen',\n",
       "  'time_series': {'test': array([1369, 1369, 1349, ..., 1329, 1329, 1419]),\n",
       "   'train': array([1339, 1339, 1339, ..., 1369, 1369, 1369])}},\n",
       " 3403: {'abahn': True,\n",
       "  'brand': 'freie tankstelle',\n",
       "  'bstr': True,\n",
       "  'county': '12061',\n",
       "  'sstr': False,\n",
       "  'state': 'brandenburg',\n",
       "  'time_series': {'test': array([1429, 1429, 1429, ..., 1399, 1399, 1399]),\n",
       "   'train': array([1589, 1589, 1589, ..., 1429, 1429, 1429])}},\n",
       " 3419: {'abahn': True,\n",
       "  'brand': 'shell',\n",
       "  'bstr': True,\n",
       "  'county': '12069',\n",
       "  'sstr': False,\n",
       "  'state': 'brandenburg',\n",
       "  'time_series': {'test': array([1349, 1349, 1349, ..., 1349, 1489, 1489]),\n",
       "   'train': array([1399, 1399, 1399, ..., 1349, 1349, 1349])}},\n",
       " 3439: {'abahn': False,\n",
       "  'brand': 'doc jehle  - freie tankstelle',\n",
       "  'bstr': True,\n",
       "  'county': '05770',\n",
       "  'sstr': True,\n",
       "  'state': 'nordrhein-westfalen',\n",
       "  'time_series': {'test': array([1349, 1349, 1349, ..., 1399, 1399, 1399]),\n",
       "   'train': array([1299, 1299, 1299, ..., 1409, 1389, 1369])}},\n",
       " 4943: {'abahn': False,\n",
       "  'brand': 'total',\n",
       "  'bstr': True,\n",
       "  'county': '059150000000',\n",
       "  'sstr': False,\n",
       "  'state': 'nordrhein-westfalen',\n",
       "  'time_series': {'test': array([1339, 1339, 1339, ..., 1459, 1459, 1459]),\n",
       "   'train': array([1379, 1379, 1379, ..., 1349, 1349, 1349])}},\n",
       " 5169: {'abahn': True,\n",
       "  'brand': 'raiffeisen',\n",
       "  'bstr': True,\n",
       "  'county': '055120000000',\n",
       "  'sstr': False,\n",
       "  'state': 'nordrhein-westfalen',\n",
       "  'time_series': {'test': array([1334, 1324, 1324, ..., 1334, 1434, 1434]),\n",
       "   'train': array([1364, 1364, 1364, ..., 1354, 1354, 1344])}},\n",
       " 6882: {'abahn': True,\n",
       "  'brand': 'shell',\n",
       "  'bstr': True,\n",
       "  'county': '051110000000',\n",
       "  'sstr': True,\n",
       "  'state': 'nordrhein-westfalen',\n",
       "  'time_series': {'test': array([1329, 1329, 1329, ..., 1339, 1489, 1489]),\n",
       "   'train': array([1399, 1399, 1399, ..., 1329, 1329, 1329])}},\n",
       " 7047: {'abahn': True,\n",
       "  'brand': 'total',\n",
       "  'bstr': True,\n",
       "  'county': '05158',\n",
       "  'sstr': True,\n",
       "  'state': 'nordrhein-westfalen',\n",
       "  'time_series': {'test': array([1319, 1319, 1319, ..., 1459, 1459, 1459]),\n",
       "   'train': array([1359, 1359, 1359, ..., 1329, 1329, 1329])}},\n",
       " 8155: {'abahn': True,\n",
       "  'brand': 'shell',\n",
       "  'bstr': True,\n",
       "  'county': '05358',\n",
       "  'sstr': False,\n",
       "  'state': 'nordrhein-westfalen',\n",
       "  'time_series': {'test': array([1349, 1349, 1349, ..., 1369, 1489, 1489]),\n",
       "   'train': array([1399, 1399, 1399, ..., 1369, 1359, 1349])}},\n",
       " 9482: {'abahn': True,\n",
       "  'brand': 'avia',\n",
       "  'bstr': True,\n",
       "  'county': '09672',\n",
       "  'sstr': False,\n",
       "  'state': 'bayern',\n",
       "  'time_series': {'test': array([1519, 1519, 1519, ..., 1569, 1569, 1569]),\n",
       "   'train': array([1439, 1439, 1439, ..., 1519, 1519, 1519])}},\n",
       " 9737: {'abahn': True,\n",
       "  'brand': 'aral',\n",
       "  'bstr': True,\n",
       "  'county': '064120000000',\n",
       "  'sstr': True,\n",
       "  'state': 'hessen',\n",
       "  'time_series': {'test': array([1339, 1339, 1339, ..., 1369, 1549, 1549]),\n",
       "   'train': array([1329, 1329, 1329, ..., 1339, 1339, 1339])}},\n",
       " 11886: {'abahn': True,\n",
       "  'brand': 'gillet tanken & waschen',\n",
       "  'bstr': True,\n",
       "  'county': '073130000000',\n",
       "  'sstr': True,\n",
       "  'state': 'rheinland-pfalz',\n",
       "  'time_series': {'test': array([1309, 1309, 1309, ..., 1269, 1269, 1269]),\n",
       "   'train': array([1269, 1269, 1269, ..., 1339, 1309, 1309])}},\n",
       " 12559: {'abahn': True,\n",
       "  'brand': '\"\"',\n",
       "  'bstr': True,\n",
       "  'county': '08136',\n",
       "  'sstr': False,\n",
       "  'state': 'baden-württemberg',\n",
       "  'time_series': {'test': array([1329, 1329, 1329, ..., 1349, 1349, 1349]),\n",
       "   'train': array([1289, 1289, 1289, ..., 1329, 1329, 1329])}},\n",
       " 13748: {'abahn': True,\n",
       "  'brand': 'hem',\n",
       "  'bstr': True,\n",
       "  'county': '097610000000',\n",
       "  'sstr': True,\n",
       "  'state': 'bayern',\n",
       "  'time_series': {'test': array([1319, 1319, 1319, ..., 1299, 1299, 1399]),\n",
       "   'train': array([1339, 1339, 1339, ..., 1319, 1319, 1319])}},\n",
       " 15182: {'abahn': True,\n",
       "  'brand': 'esso',\n",
       "  'bstr': True,\n",
       "  'county': '09776',\n",
       "  'sstr': False,\n",
       "  'state': 'bayern',\n",
       "  'time_series': {'test': array([1329, 1329, 1329, ..., 1369, 1429, 1429]),\n",
       "   'train': array([1389, 1389, 1389, ..., 1349, 1349, 1349])}}}"
      ]
     },
     "execution_count": 3,
     "metadata": {},
     "output_type": "execute_result"
    }
   ],
   "source": [
    "prepared_data"
   ]
  },
  {
   "cell_type": "markdown",
   "metadata": {},
   "source": [
    "# Remove Trend\n",
    "## with np.log"
   ]
  },
  {
   "cell_type": "code",
   "execution_count": 4,
   "metadata": {
    "collapsed": true
   },
   "outputs": [],
   "source": [
    "for key in prepared_data:\n",
    "    prepared_data[key][\"time_series\"][\"test\"] = np.log(prepared_data[key][\"time_series\"][\"test\"].reshape(-1,1))\n",
    "    prepared_data[key][\"time_series\"][\"train\"] = np.log(prepared_data[key][\"time_series\"][\"train\"].reshape(-1,1))\n",
    "    "
   ]
  },
  {
   "cell_type": "markdown",
   "metadata": {},
   "source": [
    "# using partial autocorelation"
   ]
  },
  {
   "cell_type": "code",
   "execution_count": 5,
   "metadata": {},
   "outputs": [
    {
     "name": "stderr",
     "output_type": "stream",
     "text": [
      "/usr/local/lib/python3.5/dist-packages/statsmodels/compat/pandas.py:56: FutureWarning: The pandas.core.datetools module is deprecated and will be removed in a future version. Please use the pandas.tseries module instead.\n",
      "  from pandas.core import datetools\n"
     ]
    }
   ],
   "source": [
    "from statsmodels.tsa.stattools import pacf\n",
    "\n",
    "keys = list(prepared_data.keys())\n",
    "\n",
    "x_pacf=pacf( prepared_data[keys[0]]['time_series']['train'] , nlags =10, method='ols')"
   ]
  },
  {
   "cell_type": "code",
   "execution_count": 6,
   "metadata": {},
   "outputs": [
    {
     "data": {
      "text/plain": [
       "array([ 1.        ,  0.93428397, -0.02261486, -0.09392683, -0.05500249,\n",
       "       -0.07190439, -0.06033599, -0.06388201,  0.32648963,  0.02157718,\n",
       "        0.06901596])"
      ]
     },
     "execution_count": 6,
     "metadata": {},
     "output_type": "execute_result"
    }
   ],
   "source": [
    "x_pacf # tells us one time lag correlates the most with 0.9"
   ]
  },
  {
   "cell_type": "markdown",
   "metadata": {},
   "source": [
    "# Encode States numerical"
   ]
  },
  {
   "cell_type": "code",
   "execution_count": 7,
   "metadata": {
    "collapsed": true
   },
   "outputs": [],
   "source": [
    "def encodeState(data):\n",
    "    states = {\n",
    "     'baden-württemberg':1,\n",
    "     'bayern':2,\n",
    "     'berlin':3,\n",
    "     'brandenburg':4,\n",
    "     'bremen':5,\n",
    "     'hamburg':6,\n",
    "     'hessen':7,\n",
    "     'mecklenburg-vorpommern':8,\n",
    "     'niedersachsen':9,\n",
    "     'nordrhein-westfalen':10,\n",
    "     'rheinland-pfalz':11,\n",
    "     'saarland':12,\n",
    "     'sachsen':13,\n",
    "     'sachsen-anhalt':14,\n",
    "     'schleswig-holstein':15,\n",
    "     'thüringen':16\n",
    "    }\n",
    "    data[\"state\"] = states[data[\"state\"]]\n",
    "    return data"
   ]
  },
  {
   "cell_type": "markdown",
   "metadata": {},
   "source": [
    "# Arrange Data to have List of training instances"
   ]
  },
  {
   "cell_type": "code",
   "execution_count": 8,
   "metadata": {
    "collapsed": true
   },
   "outputs": [],
   "source": [
    "x_train_adjusted = {}\n",
    "x_test_adjusted = {}\n",
    "y_train_adjusted = {}\n",
    "y_test_adjusted = {}\n",
    "for k in keys:\n",
    "    prepared_data[k] = encodeState(prepared_data[k])\n",
    "    x_train = prepared_data[k][\"time_series\"][\"train\"][0:-2]\n",
    "    y_train_adjusted[k] = prepared_data[k][\"time_series\"][\"train\"][1:-1]\n",
    "    x_test = prepared_data[k][\"time_series\"][\"test\"][0:-2]\n",
    "    y_test_adjusted[k] = prepared_data[k][\"time_series\"][\"test\"][1:-1]\n",
    "    x_train_adjusted[k] = []\n",
    "    x_test_adjusted[k] = []\n",
    "    for p in x_train:\n",
    "        features = []\n",
    "        features.append(np.float(p[0]))\n",
    "        features.append(prepared_data[k][\"state\"])\n",
    "        features.append(k)\n",
    "        features.append(hash(prepared_data[k][\"brand\"]))\n",
    "        features.append(prepared_data[k][\"county\"])\n",
    "        features.append(int(prepared_data[k][\"abahn\"]))\n",
    "        features.append(int(prepared_data[k][\"bstr\"]))\n",
    "        features.append(int(prepared_data[k][\"sstr\"]))\n",
    "        x_train_adjusted[k].append(features)\n",
    "    x_test_adjusted[k] = []\n",
    "    for p in x_test:\n",
    "        features = []\n",
    "        features.append(np.float(p[0]))\n",
    "        features.append(k)\n",
    "        features.append(hash(prepared_data[k][\"brand\"]))\n",
    "        features.append(prepared_data[k][\"state\"])\n",
    "        features.append(prepared_data[k][\"county\"])\n",
    "        features.append(int(prepared_data[k][\"abahn\"]))\n",
    "        features.append(int(prepared_data[k][\"bstr\"]))\n",
    "        features.append(int(prepared_data[k][\"sstr\"]))\n",
    "        x_test_adjusted[k].append(features)"
   ]
  },
  {
   "cell_type": "code",
   "execution_count": 9,
   "metadata": {
    "collapsed": true
   },
   "outputs": [],
   "source": [
    "x_train_adjusted =np.array([x_train_adjusted[k] for k in sorted(x_train_adjusted.keys())])\n",
    "x_train_adjusted = x_train_adjusted.reshape(-1,8)\n",
    "x_test_adjusted =np.array([x_test_adjusted[k] for k in sorted(x_test_adjusted.keys())])\n",
    "x_test_adjusted = x_test_adjusted.reshape(-1,8)\n",
    "y_test_adjusted =np.array([y_test_adjusted[k] for k in sorted(y_test_adjusted.keys())])\n",
    "y_test_adjusted = y_test_adjusted.reshape(-1,1)\n",
    "y_train_adjusted =np.array([y_train_adjusted[k] for k in sorted(y_train_adjusted.keys())])\n",
    "y_train_adjusted = y_train_adjusted.reshape(-1,1)\n"
   ]
  },
  {
   "cell_type": "markdown",
   "metadata": {},
   "source": [
    "# normalize price MinMax"
   ]
  },
  {
   "cell_type": "code",
   "execution_count": 10,
   "metadata": {
    "collapsed": true
   },
   "outputs": [],
   "source": [
    "maxValue =y_train_adjusted[:,0].max()\n",
    "x_train_adjusted = x_train_adjusted.astype(float)\n",
    "x_test_adjusted = x_test_adjusted.astype(float)\n",
    "x_train_adjusted[:,0] *=1/maxValue\n",
    "x_test_adjusted[:,0] *=1/maxValue\n",
    "y_test_adjusted[:,0] *=1/maxValue\n",
    "y_train_adjusted[:,0] *=1/maxValue"
   ]
  },
  {
   "cell_type": "code",
   "execution_count": 11,
   "metadata": {},
   "outputs": [
    {
     "data": {
      "text/plain": [
       "array([  9.57253170e-01,   8.00000000e+00,   4.83000000e+02,\n",
       "         7.32669783e+18,   1.30750000e+04,   0.00000000e+00,\n",
       "         1.00000000e+00,   0.00000000e+00])"
      ]
     },
     "execution_count": 11,
     "metadata": {},
     "output_type": "execute_result"
    }
   ],
   "source": [
    "x_train_adjusted[0]"
   ]
  },
  {
   "cell_type": "code",
   "execution_count": 12,
   "metadata": {
    "collapsed": true
   },
   "outputs": [],
   "source": [
    "x_train_adjusted = np.array(x_train_adjusted)\n",
    "x_test_adjusted = np.array(x_test_adjusted)\n",
    "#x_train_adjusted = x_train_adjusted.reshape(x_train_adjusted.shape + (1, ))\n",
    "#x_test_adjusted = x_test_adjusted.reshape(x_test_adjusted.shape + (1, ))"
   ]
  },
  {
   "cell_type": "markdown",
   "metadata": {},
   "source": [
    "# fitting lasso regression model\n",
    "\n",
    "seems to fit best our problem with a penalty value of 1e^-6"
   ]
  },
  {
   "cell_type": "code",
   "execution_count": 13,
   "metadata": {},
   "outputs": [
    {
     "name": "stdout",
     "output_type": "stream",
     "text": [
      "0.895596358471\n"
     ]
    },
    {
     "data": {
      "image/png": "[encoded data removed]",
      "text/plain": [
       "<matplotlib.figure.Figure at 0x7f6539a11a20>"
      ]
     },
     "metadata": {},
     "output_type": "display_data"
    }
   ],
   "source": [
    "from sklearn import linear_model\n",
    "import matplotlib.pyplot as plt\n",
    "clf = linear_model.LassoLars(0.0000001)\n",
    "clf.fit (x_train_adjusted, y_train_adjusted)\n",
    "print(clf.score(x_test_adjusted , y_test_adjusted))\n",
    "\n",
    "plt.plot(np.exp(y_test_adjusted*maxValue))\n",
    "plt.plot(np.exp(clf.predict(x_test_adjusted)*maxValue))\n",
    "plt.show()"
   ]
  },
  {
   "cell_type": "code",
   "execution_count": 14,
   "metadata": {},
   "outputs": [
    {
     "data": {
      "text/plain": [
       "array([[  9.49271838e-01,   4.83000000e+02,   7.32669783e+18, ...,\n",
       "          0.00000000e+00,   1.00000000e+00,   0.00000000e+00],\n",
       "       [  9.49271838e-01,   4.83000000e+02,   7.32669783e+18, ...,\n",
       "          0.00000000e+00,   1.00000000e+00,   0.00000000e+00],\n",
       "       [  9.49271838e-01,   4.83000000e+02,   7.32669783e+18, ...,\n",
       "          0.00000000e+00,   1.00000000e+00,   0.00000000e+00],\n",
       "       ..., \n",
       "       [  9.57253170e-01,   1.51820000e+04,  -5.16458179e+18, ...,\n",
       "          1.00000000e+00,   1.00000000e+00,   0.00000000e+00],\n",
       "       [  9.57253170e-01,   1.51820000e+04,  -5.16458179e+18, ...,\n",
       "          1.00000000e+00,   1.00000000e+00,   0.00000000e+00],\n",
       "       [  9.57253170e-01,   1.51820000e+04,  -5.16458179e+18, ...,\n",
       "          1.00000000e+00,   1.00000000e+00,   0.00000000e+00]])"
      ]
     },
     "execution_count": 14,
     "metadata": {},
     "output_type": "execute_result"
    }
   ],
   "source": [
    "x_test_adjusted"
   ]
  },
  {
   "cell_type": "code",
   "execution_count": 17,
   "metadata": {},
   "outputs": [
    {
     "data": {
      "text/plain": [
       "104109.39975801193"
      ]
     },
     "execution_count": 17,
     "metadata": {},
     "output_type": "execute_result"
    }
   ],
   "source": [
    "\n",
    "from sklearn.metrics import mean_squared_error\n",
    "mean_squared_error(np.exp(y_test_adjusted*maxValue), np.exp(clf.predict(x_test_adjusted*maxValue)))"
   ]
  },
  {
   "cell_type": "code",
   "execution_count": null,
   "metadata": {
    "collapsed": true
   },
   "outputs": [],
   "source": []
  },
  {
   "cell_type": "code",
   "execution_count": null,
   "metadata": {
    "collapsed": true
   },
   "outputs": [],
   "source": []
  }
 ],
 "metadata": {
  "kernelspec": {
   "display_name": "Python 3",
   "language": "python",
   "name": "python3"
  },
  "language_info": {
   "codemirror_mode": {
    "name": "ipython",
    "version": 3
   },
   "file_extension": ".py",
   "mimetype": "text/x-python",
   "name": "python",
   "nbconvert_exporter": "python",
   "pygments_lexer": "ipython3",
   "version": "3.6.4"
  }
 },
 "nbformat": 4,
 "nbformat_minor": 2
}
