{
 "cells": [
  {
   "cell_type": "code",
   "execution_count": 41,
   "metadata": {
    "collapsed": true
   },
   "outputs": [],
   "source": [
    "import sys\n",
    "import numpy as np\n",
    "sys.path.append('../')\n",
    "from model import data_preparation as prep"
   ]
  },
  {
   "cell_type": "code",
   "execution_count": 42,
   "metadata": {},
   "outputs": [],
   "source": [
    "con = prep.create_connection()\n",
    "prepared_data = prep.prepare_data(con)"
   ]
  },
  {
   "cell_type": "code",
   "execution_count": 43,
   "metadata": {},
   "outputs": [
    {
     "data": {
      "text/plain": [
       "{88: {'abahn': False,\n",
       "  'brand': 'shell',\n",
       "  'bstr': True,\n",
       "  'county': '01054',\n",
       "  'sstr': False,\n",
       "  'state': 'schleswig-holstein',\n",
       "  'time_series': {'test': array([1349, 1339, 1329, ..., 1399, 1489, 1469]),\n",
       "   'train': array([1399, 1399, 1399, ..., 1369, 1349, 1349])}},\n",
       " 827: {'abahn': False,\n",
       "  'brand': 'shell',\n",
       "  'bstr': True,\n",
       "  'county': '020000000000',\n",
       "  'sstr': False,\n",
       "  'state': 'hamburg',\n",
       "  'time_series': {'test': array([1329, 1329, 1329, ..., 1309, 1489, 1489]),\n",
       "   'train': array([1399, 1399, 1399, ..., 1329, 1329, 1329])}},\n",
       " 1217: {'abahn': False,\n",
       "  'brand': 'avia',\n",
       "  'bstr': False,\n",
       "  'county': '03461',\n",
       "  'sstr': False,\n",
       "  'state': 'niedersachsen',\n",
       "  'time_series': {'test': array([1339, 1339, 1339, ..., 1339, 1339, 1339]),\n",
       "   'train': array([1289, 1289, 1289, ..., 1349, 1339, 1339])}},\n",
       " 2348: {'abahn': False,\n",
       "  'brand': 'freie tankstelle',\n",
       "  'bstr': True,\n",
       "  'county': '03454',\n",
       "  'sstr': False,\n",
       "  'state': 'niedersachsen',\n",
       "  'time_series': {'test': array([1429, 1429, 1429, ..., 1359, 1359, 1359]),\n",
       "   'train': array([1339, 1339, 1339, ..., 1429, 1429, 1429])}},\n",
       " 3713: {'abahn': True,\n",
       "  'brand': 'hempelmann',\n",
       "  'bstr': False,\n",
       "  'county': '05758',\n",
       "  'sstr': False,\n",
       "  'state': 'nordrhein-westfalen',\n",
       "  'time_series': {'test': array([1339, 1339, 1339, ..., 1329, 1329, 1399]),\n",
       "   'train': array([1359, 1359, 1359, ..., 1349, 1349, 1339])}},\n",
       " 3745: {'abahn': True,\n",
       "  'brand': 'shell',\n",
       "  'bstr': False,\n",
       "  'county': '05758',\n",
       "  'sstr': False,\n",
       "  'state': 'nordrhein-westfalen',\n",
       "  'time_series': {'test': array([1379, 1379, 1379, ..., 1359, 1489, 1489]),\n",
       "   'train': array([1399, 1399, 1399, ..., 1409, 1379, 1379])}},\n",
       " 4515: {'abahn': False,\n",
       "  'brand': 'markant',\n",
       "  'bstr': True,\n",
       "  'county': '05766',\n",
       "  'sstr': False,\n",
       "  'state': 'nordrhein-westfalen',\n",
       "  'time_series': {'test': array([1339, 1339, 1329, ..., 1309, 1309, 1399]),\n",
       "   'train': array([1369, 1369, 1369, ..., 1359, 1359, 1349])}},\n",
       " 4658: {'abahn': True,\n",
       "  'brand': 'aral',\n",
       "  'bstr': False,\n",
       "  'county': '05774',\n",
       "  'sstr': False,\n",
       "  'state': 'nordrhein-westfalen',\n",
       "  'time_series': {'test': array([1339, 1339, 1339, ..., 1339, 1489, 1489]),\n",
       "   'train': array([1379, 1379, 1379, ..., 1349, 1349, 1349])}},\n",
       " 4662: {'abahn': False,\n",
       "  'brand': 'hem',\n",
       "  'bstr': True,\n",
       "  'county': '03155',\n",
       "  'sstr': False,\n",
       "  'state': 'niedersachsen',\n",
       "  'time_series': {'test': array([1339, 1329, 1329, ..., 1419, 1419, 1429]),\n",
       "   'train': array([1339, 1339, 1339, ..., 1359, 1359, 1349])}},\n",
       " 5456: {'abahn': False,\n",
       "  'brand': 't',\n",
       "  'bstr': True,\n",
       "  'county': '059130000000',\n",
       "  'sstr': True,\n",
       "  'state': 'nordrhein-westfalen',\n",
       "  'time_series': {'test': array([1339, 1329, 1329, ..., 1299, 1449, 1449]),\n",
       "   'train': array([1359, 1359, 1359, ..., 1339, 1339, 1339])}},\n",
       " 5669: {'abahn': True,\n",
       "  'brand': 'shell',\n",
       "  'bstr': True,\n",
       "  'county': '05974',\n",
       "  'sstr': False,\n",
       "  'state': 'nordrhein-westfalen',\n",
       "  'time_series': {'test': array([1349, 1349, 1349, ..., 1329, 1489, 1489]),\n",
       "   'train': array([1399, 1399, 1399, ..., 1369, 1369, 1369])}},\n",
       " 5993: {'abahn': False,\n",
       "  'brand': 'esso',\n",
       "  'bstr': True,\n",
       "  'county': '05962',\n",
       "  'sstr': False,\n",
       "  'state': 'nordrhein-westfalen',\n",
       "  'time_series': {'test': array([1369, 1349, 1349, ..., 1339, 1339, 1429]),\n",
       "   'train': array([1389, 1389, 1389, ..., 1369, 1369, 1369])}},\n",
       " 6859: {'abahn': True,\n",
       "  'brand': 'aral',\n",
       "  'bstr': True,\n",
       "  'county': '051110000000',\n",
       "  'sstr': True,\n",
       "  'state': 'nordrhein-westfalen',\n",
       "  'time_series': {'test': array([1339, 1339, 1339, ..., 1369, 1579, 1579]),\n",
       "   'train': array([1389, 1389, 1389, ..., 1339, 1339, 1339])}},\n",
       " 7148: {'abahn': False,\n",
       "  'brand': 'oil!',\n",
       "  'bstr': True,\n",
       "  'county': '05966',\n",
       "  'sstr': False,\n",
       "  'state': 'nordrhein-westfalen',\n",
       "  'time_series': {'test': array([1329, 1329, 1329, ..., 1319, 1419, 1419]),\n",
       "   'train': array([1349, 1349, 1349, ..., 1329, 1329, 1329])}},\n",
       " 10731: {'abahn': True,\n",
       "  'brand': 'hem',\n",
       "  'bstr': False,\n",
       "  'county': '09675',\n",
       "  'sstr': False,\n",
       "  'state': 'bayern',\n",
       "  'time_series': {'test': array([1329, 1329, 1329, ..., 1289, 1289, 1399]),\n",
       "   'train': array([1339, 1339, 1339, ..., 1329, 1329, 1329])}},\n",
       " 10735: {'abahn': True,\n",
       "  'brand': 'avia',\n",
       "  'bstr': True,\n",
       "  'county': '09472',\n",
       "  'sstr': False,\n",
       "  'state': 'bayern',\n",
       "  'time_series': {'test': array([1319, 1319, 1319, ..., 1319, 1429, 1429]),\n",
       "   'train': array([1399, 1399, 1399, ..., 1329, 1319, 1319])}},\n",
       " 12033: {'abahn': True,\n",
       "  'brand': 'avia',\n",
       "  'bstr': True,\n",
       "  'county': '08127',\n",
       "  'sstr': False,\n",
       "  'state': 'baden-württemberg',\n",
       "  'time_series': {'test': array([1339, 1339, 1339, ..., 1329, 1389, 1429]),\n",
       "   'train': array([1379, 1379, 1379, ..., 1339, 1339, 1339])}},\n",
       " 12066: {'abahn': True,\n",
       "  'brand': 'aral',\n",
       "  'bstr': True,\n",
       "  'county': '081210000000',\n",
       "  'sstr': True,\n",
       "  'state': 'baden-württemberg',\n",
       "  'time_series': {'test': array([1379, 1379, 1379, ..., 1389, 1489, 1489]),\n",
       "   'train': array([1339, 1339, 1339, ..., 1399, 1399, 1379])}},\n",
       " 12281: {'abahn': True,\n",
       "  'brand': 'total',\n",
       "  'bstr': True,\n",
       "  'county': '093620000000',\n",
       "  'sstr': True,\n",
       "  'state': 'bayern',\n",
       "  'time_series': {'test': array([1369, 1369, 1339, ..., 1479, 1479, 1479]),\n",
       "   'train': array([1379, 1379, 1379, ..., 1369, 1369, 1369])}},\n",
       " 14401: {'abahn': False,\n",
       "  'brand': 'freie tankstelle',\n",
       "  'bstr': True,\n",
       "  'county': '08426',\n",
       "  'sstr': False,\n",
       "  'state': 'baden-württemberg',\n",
       "  'time_series': {'test': array([1359, 1359, 1359, ..., 1329, 1329, 1329]),\n",
       "   'train': array([1339, 1339, 1339, ..., 1359, 1359, 1359])}}}"
      ]
     },
     "execution_count": 43,
     "metadata": {},
     "output_type": "execute_result"
    }
   ],
   "source": [
    "prepared_data"
   ]
  },
  {
   "cell_type": "code",
   "execution_count": 44,
   "metadata": {
    "collapsed": true
   },
   "outputs": [],
   "source": [
    "for key in prepared_data:\n",
    "    prepared_data[key][\"time_series\"][\"test\"] = np.log(prepared_data[key][\"time_series\"][\"test\"].reshape(-1,1))\n",
    "    prepared_data[key][\"time_series\"][\"train\"] = np.log(prepared_data[key][\"time_series\"][\"train\"].reshape(-1,1))\n",
    "    "
   ]
  },
  {
   "cell_type": "code",
   "execution_count": 45,
   "metadata": {},
   "outputs": [],
   "source": [
    "from statsmodels.tsa.stattools import pacf\n",
    "\n",
    "keys = list(prepared_data.keys())\n",
    "\n",
    "x_pacf=pacf( prepared_data[keys[0]]['time_series']['train'] , nlags =10, method='ols')"
   ]
  },
  {
   "cell_type": "code",
   "execution_count": 46,
   "metadata": {},
   "outputs": [
    {
     "data": {
      "text/plain": [
       "array([ 1.        ,  0.91620121,  0.2204104 ,  0.01167805, -0.02256453,\n",
       "       -0.02539637, -0.0216598 ,  0.01725517,  0.05777609,  0.07587236,\n",
       "        0.10204178])"
      ]
     },
     "execution_count": 46,
     "metadata": {},
     "output_type": "execute_result"
    }
   ],
   "source": [
    "x_pacf"
   ]
  },
  {
   "cell_type": "code",
   "execution_count": 47,
   "metadata": {},
   "outputs": [],
   "source": [
    "\n",
    "from nnet_ts import *\n",
    "count = 0\n",
    "ahead =12"
   ]
  },
  {
   "cell_type": "code",
   "execution_count": 48,
   "metadata": {},
   "outputs": [
    {
     "name": "stderr",
     "output_type": "stream",
     "text": [
      "INFO:Building regressor matrix\n",
      "INFO:Scaling data\n",
      "INFO:Checking network consistency\n",
      "INFO:Training neural net\n",
      "/usr/lib/python3.6/site-packages/keras/models.py:939: UserWarning: The `nb_epoch` argument in `fit` has been renamed `epochs`.\n",
      "  warnings.warn('The `nb_epoch` argument in `fit` '\n"
     ]
    },
    {
     "name": "stdout",
     "output_type": "stream",
     "text": [
      " Obs :  1  x =  7.2435  prediction = 0    7.178169\n",
      "dtype: float64\n"
     ]
    },
    {
     "data": {
      "text/plain": [
       "<nnet_ts.TimeSeriesNnet.TimeSeriesNnet at 0x7fb7f40ef940>"
      ]
     },
     "execution_count": 48,
     "metadata": {},
     "output_type": "execute_result"
    }
   ],
   "source": [
    "def train_net_on_station(trainset, ahead=12, count = 0):\n",
    "    x = trainset\n",
    "    x=x.reshape ( -1)\n",
    "    while(count < ahead):\n",
    "        end =len(x)-ahead+count\n",
    "        np.random.seed(2016)\n",
    "        fit1 = TimeSeriesNnet(hidden_layers =[7,3],activation_functions = [ \"tanh\" , \"tanh\" ] )\n",
    "        fit1.fit(x[0:end],lag =1,epochs = 100)\n",
    "\n",
    "\n",
    "        out = fit1.predict_ahead(n_ahead = 1)\n",
    "        print ( \" Obs : \" , count +1, \" x = \" , round( x[count] , 4 ) , \" prediction =\", pd.Series(out))\n",
    "\n",
    "        count = count + 1\n",
    "        return fit1\n",
    "    \n",
    "train_net_on_station(prepared_data[keys[0]]['time_series']['train'])"
   ]
  },
  {
   "cell_type": "code",
   "execution_count": 49,
   "metadata": {},
   "outputs": [],
   "source": [
    "def encodeState(data):\n",
    "    states = {\n",
    "     'baden-württemberg':1,\n",
    "     'bayern':2,\n",
    "     'berlin':3,\n",
    "     'brandenburg':4,\n",
    "     'bremen':5,\n",
    "     'hamburg':6,\n",
    "     'hessen':7,\n",
    "     'mecklenburg-vorpommern':8,\n",
    "     'niedersachsen':9,\n",
    "     'nordrhein-westfalen':10,\n",
    "     'rheinland-pfalz':11,\n",
    "     'saarland':12,\n",
    "     'sachsen':13,\n",
    "     'sachsen-anhalt':14,\n",
    "     'schleswig-holstein':15,\n",
    "     'thüringen':16\n",
    "    }\n",
    "    data[\"state\"] = states[data[\"state\"]]\n",
    "    return data\n"
   ]
  },
  {
   "cell_type": "code",
   "execution_count": null,
   "metadata": {},
   "outputs": [],
   "source": [
    "\n"
   ]
  },
  {
   "cell_type": "code",
   "execution_count": 104,
   "metadata": {},
   "outputs": [],
   "source": [
    "x_train_adjusted = {}\n",
    "x_test_adjusted = {}\n",
    "y_train_adjusted = {}\n",
    "y_test_adjusted = {}\n",
    "for k in keys:\n",
    "    #prepared_data[k] = encodeState(prepared_data[k])\n",
    "    x_train = prepared_data[k][\"time_series\"][\"train\"][0:-2]\n",
    "    y_train_adjusted[k] = prepared_data[k][\"time_series\"][\"train\"][1:-1]\n",
    "    x_test = prepared_data[k][\"time_series\"][\"test\"][0:-2]\n",
    "    y_test_adjusted[k] = prepared_data[k][\"time_series\"][\"test\"][1:-1]\n",
    "    x_train_adjusted[k] = []\n",
    "    x_test_adjusted[k] = []\n",
    "    for p in x_train:\n",
    "        features = []\n",
    "        features.append(p[0])\n",
    "        features.append(prepared_data[k][\"state\"])\n",
    "        features.append(prepared_data[k][\"county\"])\n",
    "        features.append(int(prepared_data[k][\"abahn\"]))\n",
    "        features.append(int(prepared_data[k][\"bstr\"]))\n",
    "        features.append(int(prepared_data[k][\"sstr\"]))\n",
    "        x_train_adjusted[k].append(features)\n",
    "    x_test_adjusted[k] = []\n",
    "    for p in x_test:\n",
    "        features = []\n",
    "        features.append(p[0])\n",
    "        features.append(prepared_data[k][\"state\"])\n",
    "        features.append(prepared_data[k][\"county\"])\n",
    "        features.append(int(prepared_data[k][\"abahn\"]))\n",
    "        features.append(int(prepared_data[k][\"bstr\"]))\n",
    "        features.append(int(prepared_data[k][\"sstr\"]))\n",
    "        x_test_adjusted[k].append(features)"
   ]
  },
  {
   "cell_type": "code",
   "execution_count": 105,
   "metadata": {},
   "outputs": [
    {
     "data": {
      "text/plain": [
       "array([[ 7.24351297],\n",
       "       [ 7.24351297],\n",
       "       [ 7.24351297],\n",
       "       ..., \n",
       "       [ 7.22183583],\n",
       "       [ 7.22183583],\n",
       "       [ 7.20711886]])"
      ]
     },
     "execution_count": 105,
     "metadata": {},
     "output_type": "execute_result"
    }
   ],
   "source": [
    "y_train_adjusted[88]"
   ]
  },
  {
   "cell_type": "code",
   "execution_count": 106,
   "metadata": {
    "collapsed": true
   },
   "outputs": [],
   "source": [
    "from keras.optimizers import SGD\n",
    "from keras.layers.core import Dense, Activation\n",
    "from keras.layers.recurrent import SimpleRNN"
   ]
  },
  {
   "cell_type": "code",
   "execution_count": 107,
   "metadata": {},
   "outputs": [
    {
     "name": "stderr",
     "output_type": "stream",
     "text": [
      "/usr/lib/python3.6/site-packages/ipykernel_launcher.py:4: UserWarning: Update your `SimpleRNN` call to the Keras 2 API: `SimpleRNN(activation=\"tanh\", input_shape=(6, 1), units=8)`\n",
      "  after removing the cwd from sys.path.\n",
      "/usr/lib/python3.6/site-packages/ipykernel_launcher.py:5: UserWarning: Update your `Dense` call to the Keras 2 API: `Dense(activation=\"linear\", units=1)`\n",
      "  \"\"\"\n"
     ]
    }
   ],
   "source": [
    "seed = 2016\n",
    "np.random.seed(seed)\n",
    "fit1 = Sequential()\n",
    "fit1.add(SimpleRNN(output_dim=8, activation=\"tanh\", input_shape=(6, 1)))\n",
    "fit1.add(Dense(output_dim =1, activation='linear'))\n",
    "sgd = SGD(lr =0.0001, momentum =0.95, nesterov=True)\n",
    "fit1.compile(loss='mean_squared_error', optimizer=sgd)"
   ]
  },
  {
   "cell_type": "code",
   "execution_count": 114,
   "metadata": {
    "collapsed": true
   },
   "outputs": [],
   "source": [
    "x_train_adjusted[4515] = np.array(x_train_adjusted[4515])\n",
    "x_test_adjusted[4515] = np.array(x_test_adjusted[4515])\n",
    "x_train_adjusted[4515] = x_train_adjusted[4515].reshape(x_train_adjusted[4515].shape + (1, ))\n",
    "x_test_adjusted[4515] = x_test_adjusted[4515].reshape(x_test_adjusted[4515].shape + (1, ))"
   ]
  },
  {
   "cell_type": "code",
   "execution_count": 116,
   "metadata": {},
   "outputs": [
    {
     "name": "stdout",
     "output_type": "stream",
     "text": [
      "Epoch 1/10\n",
      "19025/19025 [==============================] - 4s 236us/step - loss: 0.0051\n",
      "Epoch 2/10\n",
      "19025/19025 [==============================] - 5s 238us/step - loss: 0.0051\n",
      "Epoch 3/10\n",
      "19025/19025 [==============================] - 4s 229us/step - loss: 0.0051\n",
      "Epoch 4/10\n",
      "19025/19025 [==============================] - 4s 217us/step - loss: 0.0051\n",
      "Epoch 5/10\n",
      "19025/19025 [==============================] - 4s 216us/step - loss: 0.0051\n",
      "Epoch 6/10\n",
      "19025/19025 [==============================] - 4s 218us/step - loss: 0.0051\n",
      "Epoch 7/10\n",
      "19025/19025 [==============================] - 4s 222us/step - loss: 0.0051\n",
      "Epoch 8/10\n",
      "19025/19025 [==============================] - 4s 216us/step - loss: 0.0051\n",
      "Epoch 9/10\n",
      "19025/19025 [==============================] - 4s 228us/step - loss: 0.0051\n",
      "Epoch 10/10\n",
      "19025/19025 [==============================] - 5s 240us/step - loss: 0.0051\n"
     ]
    },
    {
     "data": {
      "text/plain": [
       "<keras.callbacks.History at 0x7fb7b9fe1a58>"
      ]
     },
     "execution_count": 116,
     "metadata": {},
     "output_type": "execute_result"
    }
   ],
   "source": [
    "fit1.fit(x_train_adjusted[88], y_train_adjusted[88], batch_size=10, epochs =10)\n"
   ]
  },
  {
   "cell_type": "code",
   "execution_count": 117,
   "metadata": {},
   "outputs": [
    {
     "name": "stdout",
     "output_type": "stream",
     "text": [
      "19025/19025 [==============================] - 2s 108us/step\n",
      "4755/4755 [==============================] - 1s 116us/step\n",
      "in train MSE =  0.00413\n",
      "in test MSE =  0.001098\n"
     ]
    }
   ],
   "source": [
    "score_train = fit1.evaluate(x_train_adjusted[4515], y_train_adjusted[4515], batch_size =10)\n",
    "score_test = fit1.evaluate (x_test_adjusted[4515], y_test_adjusted[4515], batch_size =10)\n",
    "print(\"in train MSE = \", round( score_train, 6))\n",
    "print(\"in test MSE = \", round( score_test ,6))"
   ]
  },
  {
   "cell_type": "code",
   "execution_count": null,
   "metadata": {
    "collapsed": true
   },
   "outputs": [],
   "source": []
  }
 ],
 "metadata": {
  "kernelspec": {
   "display_name": "Python 3",
   "language": "python",
   "name": "python3"
  },
  "language_info": {
   "codemirror_mode": {
    "name": "ipython",
    "version": 3
   },
   "file_extension": ".py",
   "mimetype": "text/x-python",
   "name": "python",
   "nbconvert_exporter": "python",
   "pygments_lexer": "ipython3",
   "version": "3.6.3"
  }
 },
 "nbformat": 4,
 "nbformat_minor": 2
}
